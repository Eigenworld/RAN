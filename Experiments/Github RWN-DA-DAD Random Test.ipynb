{
 "cells": [
  {
   "cell_type": "code",
   "execution_count": 1,
   "metadata": {
    "id": "565ix1qM_zj3"
   },
   "outputs": [],
   "source": [
    "import torch\n",
    "import numpy as np\n",
    "import networkx as nx\n",
    "import torch.nn as nn\n",
    "import time\n",
    "import torch.nn.functional as F"
   ]
  },
  {
   "cell_type": "code",
   "execution_count": 2,
   "metadata": {
    "id": "ClxAy3r7_1K6"
   },
   "outputs": [],
   "source": [
    "from utils import EarlyStopping"
   ]
  },
  {
   "cell_type": "markdown",
   "metadata": {},
   "source": [
    "## Load Data"
   ]
  },
  {
   "cell_type": "code",
   "execution_count": 3,
   "metadata": {
    "id": "ZAPaP2Qm_3Iy"
   },
   "outputs": [],
   "source": [
    "from torch_geometric.datasets import Planetoid"
   ]
  },
  {
   "cell_type": "code",
   "execution_count": 4,
   "metadata": {},
   "outputs": [],
   "source": [
    "path = %pwd"
   ]
  },
  {
   "cell_type": "code",
   "execution_count": 5,
   "metadata": {
    "id": "wZkgK4sj_3sR"
   },
   "outputs": [],
   "source": [
    "Cora = Planetoid(root=path, name='Cora')\n",
    "cora = Cora[0]"
   ]
  },
  {
   "cell_type": "code",
   "execution_count": null,
   "metadata": {
    "id": "BLeP5UB-_9LB"
   },
   "outputs": [],
   "source": [
    "C_S = Planetoid(root=path, name='CiteSeer')\n",
    "cite_seer = C_S[0]"
   ]
  },
  {
   "cell_type": "code",
   "execution_count": null,
   "metadata": {
    "id": "Tlr6C3ly_9Ve"
   },
   "outputs": [],
   "source": [
    "PM = Planetoid(root=path, name='PubMed')\n",
    "pub_med = PM[0]"
   ]
  },
  {
   "cell_type": "code",
   "execution_count": null,
   "metadata": {
    "id": "nuAZyHWW9jxM"
   },
   "outputs": [],
   "source": []
  },
  {
   "cell_type": "code",
   "execution_count": 6,
   "metadata": {
    "id": "H6uY7tuVACp7"
   },
   "outputs": [],
   "source": [
    "def Gen_data(dataset, num_features,seed):\n",
    "    np.random.seed(seed)\n",
    "    data = dataset.clone()\n",
    "    rx = np.random.normal(0, 1, size=(data.num_nodes, num_features) )\n",
    "    #rx = np.random.random((data.num_nodes, num_features))\n",
    "    rx = torch.FloatTensor(rx)\n",
    "    data.x = rx\n",
    "    return data"
   ]
  },
  {
   "cell_type": "code",
   "execution_count": 7,
   "metadata": {
    "id": "YzMkr3urACz2"
   },
   "outputs": [],
   "source": [
    "# Cora\n",
    "cora_seed = 1024\n",
    "N_F = 300\n",
    "r_cora = Gen_data(cora, N_F, cora_seed)\n",
    "\n",
    "data = r_cora\n",
    "num_features = data.num_features\n",
    "num_classes = len(set(data.y.numpy()))"
   ]
  },
  {
   "cell_type": "code",
   "execution_count": null,
   "metadata": {
    "id": "yLCBmbOdAC8Y"
   },
   "outputs": [],
   "source": [
    "#Cite_Seer\n",
    "cite_seer_seed = 1024\n",
    "N_F = 500\n",
    "r_citeseer = Gen_data(cite_seer, N_F, cite_seer_seed)\n",
    "\n",
    "data = r_citeseer\n",
    "num_features = data.num_features\n",
    "num_classes = len(set(data.y.numpy()))"
   ]
  },
  {
   "cell_type": "code",
   "execution_count": null,
   "metadata": {
    "id": "h-WC_1PiADD-"
   },
   "outputs": [],
   "source": [
    "#pubmed\n",
    "pub_med_seed = 1024\n",
    "N_F = 1000\n",
    "r_pubmed = Gen_data(pub_med, N_F, pub_med_seed)\n",
    "\n",
    "data = r_pubmed\n",
    "num_features = data.num_features\n",
    "num_classes = len(set(data.y.numpy()))"
   ]
  },
  {
   "cell_type": "code",
   "execution_count": null,
   "metadata": {
    "id": "uCwaKYrmAXIS"
   },
   "outputs": [],
   "source": []
  },
  {
   "cell_type": "code",
   "execution_count": null,
   "metadata": {
    "id": "6zPD-woCAXQ_"
   },
   "outputs": [],
   "source": []
  },
  {
   "cell_type": "markdown",
   "metadata": {
    "id": "m7tq_mHYAvSk"
   },
   "source": [
    "## D_inv_A"
   ]
  },
  {
   "cell_type": "code",
   "execution_count": 8,
   "metadata": {
    "id": "mBdFZA-6AXWm"
   },
   "outputs": [],
   "source": [
    "from D_inv_A import D_inv_AConv"
   ]
  },
  {
   "cell_type": "code",
   "execution_count": 9,
   "metadata": {
    "id": "PNXwE99dAXb3"
   },
   "outputs": [],
   "source": [
    "class Net(torch.nn.Module):\n",
    "    def __init__(self):\n",
    "        super(Net, self).__init__()\n",
    "        self.conv1 = D_inv_AConv(\n",
    "            num_features, num_classes, K=60, cached=True, improve= True)\n",
    "\n",
    "    def forward(self):\n",
    "        x, edge_index = data.x, data.edge_index\n",
    "        x = self.conv1(x, edge_index)\n",
    "        return F.log_softmax(x, dim=1)"
   ]
  },
  {
   "cell_type": "code",
   "execution_count": 10,
   "metadata": {
    "colab": {
     "base_uri": "https://localhost:8080/",
     "height": 897
    },
    "executionInfo": {
     "elapsed": 673192,
     "status": "ok",
     "timestamp": 1584434935473,
     "user": {
      "displayName": "Alexy Robert",
      "photoUrl": "https://lh3.googleusercontent.com/a-/AOh14Ggz_PITpCVZkOGCc-PYV93u9s6v6n1BoAux_QBT=s64",
      "userId": "05809751795814209528"
     },
     "user_tz": -480
    },
    "id": "gz5vru-qAxrP",
    "outputId": "42dee7df-d38d-4630-fa6f-812f8e918258",
    "scrolled": true
   },
   "outputs": [
    {
     "name": "stdout",
     "output_type": "stream",
     "text": [
      "Net(\n",
      "  (conv1): D_inv_AConv(300, 7, K=60)\n",
      ")\n",
      "\n",
      "Test Accuracy 0.7190\n",
      "Net(\n",
      "  (conv1): D_inv_AConv(300, 7, K=60)\n",
      ")\n",
      "\n",
      "Test Accuracy 0.7150\n",
      "Net(\n",
      "  (conv1): D_inv_AConv(300, 7, K=60)\n",
      ")\n",
      "\n",
      "Test Accuracy 0.7040\n",
      "Net(\n",
      "  (conv1): D_inv_AConv(300, 7, K=60)\n",
      ")\n",
      "\n",
      "Test Accuracy 0.6920\n",
      "Net(\n",
      "  (conv1): D_inv_AConv(300, 7, K=60)\n",
      ")\n",
      "\n",
      "Test Accuracy 0.7150\n",
      "Net(\n",
      "  (conv1): D_inv_AConv(300, 7, K=60)\n",
      ")\n",
      "\n",
      "Test Accuracy 0.6990\n",
      "Net(\n",
      "  (conv1): D_inv_AConv(300, 7, K=60)\n",
      ")\n",
      "\n",
      "Test Accuracy 0.6930\n",
      "Net(\n",
      "  (conv1): D_inv_AConv(300, 7, K=60)\n",
      ")\n",
      "\n",
      "Test Accuracy 0.7240\n",
      "Net(\n",
      "  (conv1): D_inv_AConv(300, 7, K=60)\n",
      ")\n",
      "\n",
      "Test Accuracy 0.7160\n",
      "Net(\n",
      "  (conv1): D_inv_AConv(300, 7, K=60)\n",
      ")\n",
      "\n",
      "Test Accuracy 0.7290\n"
     ]
    }
   ],
   "source": [
    "das = []\n",
    "for _ in range(10):\n",
    "  device = torch.device('cuda' if torch.cuda.is_available() else 'cpu')\n",
    "  model, data = Net().to(device), data.to(device)\n",
    "  #r_cora_da\n",
    "  optimizer = torch.optim.Adam(model.parameters(), lr=0.3, weight_decay=5e-3)\n",
    "  #pubmed_da\n",
    "  #optimizer = torch.optim.Adam(model.parameters(), lr=0.5, weight_decay=5e-5)\n",
    "  #cite_seer_da\n",
    "  #optimizer = torch.optim.Adam(model.parameters(), lr=0.09, weight_decay=5e-3)\n",
    " \n",
    "\n",
    "  def train():\n",
    "      model.train()\n",
    "      optimizer.zero_grad()\n",
    "      loss = F.nll_loss(model()[data.train_mask], data.y[data.train_mask])\n",
    "      loss.backward()\n",
    "      optimizer.step()\n",
    "      return loss\n",
    "\n",
    "  def test(mask):\n",
    "      model.eval()\n",
    "      with torch.no_grad():\n",
    "          logits = model()\n",
    "          pred = logits[mask].max(1)[1]\n",
    "          acc = pred.eq(data.y[mask]).sum().item() / mask.sum().item()\n",
    "          \n",
    "      return acc\n",
    "\n",
    "\n",
    "  early_stop = True\n",
    "  if early_stop:\n",
    "      stopper = EarlyStopping(patience=100)\n",
    "  dur = []\n",
    "  print(model)\n",
    "\n",
    "  for epoch in range(1, 101):\n",
    "      model.train()\n",
    "      if epoch >= 3:\n",
    "          t0 = time.time()\n",
    "      loss = train()\n",
    "      \n",
    "      if epoch >= 3:\n",
    "          dur.append(time.time() - t0)\n",
    "      \n",
    "      val_acc = test(data.val_mask)\n",
    "      \n",
    "      if early_stop:\n",
    "          if stopper.step(val_acc, model):   \n",
    "              break\n",
    "      \n",
    "      '''print(\"Epoch {:05d} | Time(s) {:.4f} | Loss {:.4f} | \"\n",
    "                \" ValAcc {:.4f}\".\n",
    "                format(epoch, np.mean(dur), loss, val_acc))'''\n",
    "      \n",
    "  print() # 空出一行\n",
    "      \n",
    "  if early_stop:\n",
    "      model.load_state_dict(torch.load('es_checkpoint.pt'))\n",
    "  test_acc = test(data.test_mask)\n",
    "  das.append(test_acc)\n",
    "  print(\"Test Accuracy {:.4f}\".format(test_acc))"
   ]
  },
  {
   "cell_type": "code",
   "execution_count": null,
   "metadata": {
    "id": "qp31QPSOAx2x"
   },
   "outputs": [],
   "source": []
  },
  {
   "cell_type": "code",
   "execution_count": 11,
   "metadata": {
    "colab": {
     "base_uri": "https://localhost:8080/",
     "height": 35
    },
    "executionInfo": {
     "elapsed": 812,
     "status": "ok",
     "timestamp": 1584435164935,
     "user": {
      "displayName": "Alexy Robert",
      "photoUrl": "https://lh3.googleusercontent.com/a-/AOh14Ggz_PITpCVZkOGCc-PYV93u9s6v6n1BoAux_QBT=s64",
      "userId": "05809751795814209528"
     },
     "user_tz": -480
    },
    "id": "FoqGYhMEAXmj",
    "outputId": "b3373810-26ec-4d91-ac04-e0d4bf822d05"
   },
   "outputs": [
    {
     "data": {
      "text/plain": [
       "0.7106"
      ]
     },
     "execution_count": 11,
     "metadata": {},
     "output_type": "execute_result"
    }
   ],
   "source": [
    "np.mean(das)"
   ]
  },
  {
   "cell_type": "code",
   "execution_count": 12,
   "metadata": {
    "colab": {
     "base_uri": "https://localhost:8080/",
     "height": 35
    },
    "executionInfo": {
     "elapsed": 1844,
     "status": "ok",
     "timestamp": 1584435162667,
     "user": {
      "displayName": "Alexy Robert",
      "photoUrl": "https://lh3.googleusercontent.com/a-/AOh14Ggz_PITpCVZkOGCc-PYV93u9s6v6n1BoAux_QBT=s64",
      "userId": "05809751795814209528"
     },
     "user_tz": -480
    },
    "id": "5mfB3SThAXht",
    "outputId": "16706f08-f243-403b-fd93-fff5e3ad25c6"
   },
   "outputs": [
    {
     "data": {
      "text/plain": [
       "1.2208193969625496"
      ]
     },
     "execution_count": 12,
     "metadata": {},
     "output_type": "execute_result"
    }
   ],
   "source": [
    "np.std(das)*100"
   ]
  },
  {
   "cell_type": "markdown",
   "metadata": {},
   "source": [
    "## load previously results: Iteration5-60, Feature dim = 300"
   ]
  },
  {
   "cell_type": "code",
   "execution_count": 13,
   "metadata": {},
   "outputs": [],
   "source": [
    "DA = np.loadtxt('DA_5_60_cora_300.txt')"
   ]
  },
  {
   "cell_type": "code",
   "execution_count": 14,
   "metadata": {},
   "outputs": [
    {
     "data": {
      "text/plain": [
       "(12, 2)"
      ]
     },
     "execution_count": 14,
     "metadata": {},
     "output_type": "execute_result"
    }
   ],
   "source": [
    "DA.shape"
   ]
  },
  {
   "cell_type": "code",
   "execution_count": 15,
   "metadata": {},
   "outputs": [
    {
     "data": {
      "text/plain": [
       "array([[6.04000000e-01, 4.32049380e-03],\n",
       "       [6.99333333e-01, 4.18993503e-03],\n",
       "       [7.44333333e-01, 4.71404521e-04],\n",
       "       [7.55000000e-01, 4.54606057e-03],\n",
       "       [7.53666667e-01, 7.40870359e-03],\n",
       "       [7.38000000e-01, 1.63299316e-03],\n",
       "       [7.55000000e-01, 6.37704216e-03],\n",
       "       [7.47333333e-01, 9.67241209e-03],\n",
       "       [7.31666667e-01, 1.04986772e-02],\n",
       "       [7.14333333e-01, 1.69967317e-03],\n",
       "       [7.28000000e-01, 1.48548533e-02],\n",
       "       [7.12333333e-01, 5.31245915e-03]])"
      ]
     },
     "execution_count": 15,
     "metadata": {},
     "output_type": "execute_result"
    }
   ],
   "source": [
    "DA"
   ]
  },
  {
   "cell_type": "code",
   "execution_count": 16,
   "metadata": {},
   "outputs": [],
   "source": [
    "import matplotlib.pyplot as plt\n",
    "%matplotlib inline"
   ]
  },
  {
   "cell_type": "code",
   "execution_count": 17,
   "metadata": {},
   "outputs": [
    {
     "data": {
      "text/plain": [
       "(12,)"
      ]
     },
     "execution_count": 17,
     "metadata": {},
     "output_type": "execute_result"
    }
   ],
   "source": [
    "DA[:,1].shape"
   ]
  },
  {
   "cell_type": "code",
   "execution_count": 18,
   "metadata": {},
   "outputs": [
    {
     "data": {
      "image/png": "[encoded data removed]",
      "text/plain": [
       "<Figure size 432x288 with 1 Axes>"
      ]
     },
     "metadata": {
      "needs_background": "light"
     },
     "output_type": "display_data"
    }
   ],
   "source": [
    "x = np.arange(5,65,5)\n",
    "y = DA[:,0]\n",
    "# example error bar values that vary with x-position\n",
    "error =DA[:,1]\n",
    "\n",
    "fig, ax = plt.subplots(nrows=1)\n",
    "ax.errorbar(x, y, yerr=error, fmt='-o')\n",
    "ax.set_title('DA, error bar')\n",
    "\n",
    "plt.show()"
   ]
  },
  {
   "cell_type": "code",
   "execution_count": null,
   "metadata": {},
   "outputs": [],
   "source": []
  },
  {
   "cell_type": "markdown",
   "metadata": {},
   "source": [
    "### Introduction Part: Random Feature Test"
   ]
  },
  {
   "cell_type": "markdown",
   "metadata": {
    "id": "5NlxHNIyHQiW"
   },
   "source": [
    "## D_A_D/Linear GCN"
   ]
  },
  {
   "cell_type": "code",
   "execution_count": 19,
   "metadata": {
    "id": "0AX6yf3vHcW1"
   },
   "outputs": [],
   "source": [
    "from D_A_D import DAD_Conv"
   ]
  },
  {
   "cell_type": "code",
   "execution_count": 20,
   "metadata": {
    "id": "9BivK1ccCPvg"
   },
   "outputs": [],
   "source": [
    "class Net(torch.nn.Module):\n",
    "    def __init__(self):\n",
    "        super(Net, self).__init__()\n",
    "        self.conv1 = DAD_Conv(\n",
    "            num_features, num_classes, K=40, cached=True, improve=True)\n",
    "\n",
    "    def forward(self):\n",
    "        x, edge_index = data.x, data.edge_index\n",
    "        x = self.conv1(x, edge_index)\n",
    "        return F.log_softmax(x, dim=1)"
   ]
  },
  {
   "cell_type": "code",
   "execution_count": null,
   "metadata": {
    "id": "R8HLMF_2HALQ"
   },
   "outputs": [],
   "source": []
  },
  {
   "cell_type": "code",
   "execution_count": 21,
   "metadata": {
    "colab": {
     "base_uri": "https://localhost:8080/",
     "height": 917
    },
    "executionInfo": {
     "elapsed": 847012,
     "status": "ok",
     "timestamp": 1586495919072,
     "user": {
      "displayName": "Alexy Robert",
      "photoUrl": "https://lh3.googleusercontent.com/a-/AOh14Ggz_PITpCVZkOGCc-PYV93u9s6v6n1BoAux_QBT=s64",
      "userId": "05809751795814209528"
     },
     "user_tz": -480
    },
    "id": "CRy6LOIOHAk1",
    "outputId": "1c76d591-0fcd-4490-9217-6156485a0f25"
   },
   "outputs": [
    {
     "name": "stdout",
     "output_type": "stream",
     "text": [
      "hola!\n",
      "Net(\n",
      "  (conv1): DAD_Conv(300, 7, K=40)\n",
      ")\n",
      "\n",
      "Test Accuracy 0.7350\n",
      "hola!\n",
      "Net(\n",
      "  (conv1): DAD_Conv(300, 7, K=40)\n",
      ")\n",
      "\n",
      "Test Accuracy 0.7350\n",
      "hola!\n",
      "Net(\n",
      "  (conv1): DAD_Conv(300, 7, K=40)\n",
      ")\n",
      "\n",
      "Test Accuracy 0.7350\n",
      "hola!\n",
      "Net(\n",
      "  (conv1): DAD_Conv(300, 7, K=40)\n",
      ")\n",
      "\n",
      "Test Accuracy 0.7330\n",
      "hola!\n",
      "Net(\n",
      "  (conv1): DAD_Conv(300, 7, K=40)\n",
      ")\n",
      "\n",
      "Test Accuracy 0.7360\n",
      "hola!\n",
      "Net(\n",
      "  (conv1): DAD_Conv(300, 7, K=40)\n",
      ")\n",
      "\n",
      "Test Accuracy 0.7350\n",
      "hola!\n",
      "Net(\n",
      "  (conv1): DAD_Conv(300, 7, K=40)\n",
      ")\n",
      "\n",
      "Test Accuracy 0.7380\n",
      "hola!\n",
      "Net(\n",
      "  (conv1): DAD_Conv(300, 7, K=40)\n",
      ")\n",
      "\n",
      "Test Accuracy 0.7340\n",
      "hola!\n",
      "Net(\n",
      "  (conv1): DAD_Conv(300, 7, K=40)\n",
      ")\n",
      "\n",
      "Test Accuracy 0.7330\n",
      "hola!\n",
      "Net(\n",
      "  (conv1): DAD_Conv(300, 7, K=40)\n",
      ")\n",
      "\n",
      "Test Accuracy 0.7330\n"
     ]
    }
   ],
   "source": [
    "Dads = []\n",
    "for _ in range(10):\n",
    "  device = torch.device('cuda' if torch.cuda.is_available() else 'cpu')\n",
    "  model, data = Net().to(device), data.to(device)\n",
    "  #r_cora_dad\n",
    "  optimizer = torch.optim.Adam(model.parameters(), lr=0.01, weight_decay=5e-6)\n",
    "  #pubmed_dad\n",
    "  #optimizer = torch.optim.Adam(model.parameters(), lr=0.5, weight_decay=5e-4)\n",
    "  #r_cite_seer_dad\n",
    "  #optimizer = torch.optim.Adam(model.parameters(), lr=0.2, weight_decay=5e-2)\n",
    "  \n",
    "\n",
    "  def train():\n",
    "      model.train()\n",
    "      optimizer.zero_grad()\n",
    "      loss = F.nll_loss(model()[data.train_mask], data.y[data.train_mask])\n",
    "      loss.backward()\n",
    "      optimizer.step()\n",
    "      return loss\n",
    "\n",
    "  def test(mask):\n",
    "      model.eval()\n",
    "      with torch.no_grad():\n",
    "          logits = model()\n",
    "          pred = logits[mask].max(1)[1]\n",
    "          acc = pred.eq(data.y[mask]).sum().item() / mask.sum().item()\n",
    "          \n",
    "      return acc\n",
    "\n",
    "\n",
    "  early_stop = True\n",
    "  if early_stop:\n",
    "      stopper = EarlyStopping(patience=100)\n",
    "  dur = []\n",
    "  print(model)\n",
    "\n",
    "  for epoch in range(1, 101):\n",
    "      model.train()\n",
    "      if epoch >= 3:\n",
    "          t0 = time.time()\n",
    "      loss = train()\n",
    "      \n",
    "      if epoch >= 3:\n",
    "          dur.append(time.time() - t0)\n",
    "      \n",
    "      val_acc = test(data.val_mask)\n",
    "      \n",
    "      if early_stop:\n",
    "          if stopper.step(val_acc, model):   \n",
    "              break\n",
    "      \n",
    "      '''print(\"Epoch {:05d} | Time(s) {:.4f} | Loss {:.4f} | \"\n",
    "                \" ValAcc {:.4f}\".\n",
    "                format(epoch, np.mean(dur), loss, val_acc))'''\n",
    "      \n",
    "  print() \n",
    "      \n",
    "  if early_stop:\n",
    "      model.load_state_dict(torch.load('es_checkpoint.pt'))\n",
    "  test_acc = test(data.test_mask)\n",
    "  Dads.append(test_acc)\n",
    "  print(\"Test Accuracy {:.4f}\".format(test_acc))"
   ]
  },
  {
   "cell_type": "code",
   "execution_count": null,
   "metadata": {
    "id": "JaOsa1dkHifg"
   },
   "outputs": [],
   "source": []
  },
  {
   "cell_type": "code",
   "execution_count": 22,
   "metadata": {
    "colab": {
     "base_uri": "https://localhost:8080/",
     "height": 55
    },
    "executionInfo": {
     "elapsed": 501,
     "status": "ok",
     "timestamp": 1586495969946,
     "user": {
      "displayName": "Alexy Robert",
      "photoUrl": "https://lh3.googleusercontent.com/a-/AOh14Ggz_PITpCVZkOGCc-PYV93u9s6v6n1BoAux_QBT=s64",
      "userId": "05809751795814209528"
     },
     "user_tz": -480
    },
    "id": "KLBO0v71Hi41",
    "outputId": "f7d26ffa-d3b5-4677-ba1c-6c4148411710"
   },
   "outputs": [
    {
     "data": {
      "text/plain": [
       "0.7346999999999999"
      ]
     },
     "execution_count": 22,
     "metadata": {},
     "output_type": "execute_result"
    }
   ],
   "source": [
    "np.mean(Dads)"
   ]
  },
  {
   "cell_type": "code",
   "execution_count": 23,
   "metadata": {
    "colab": {
     "base_uri": "https://localhost:8080/",
     "height": 55
    },
    "executionInfo": {
     "elapsed": 978,
     "status": "ok",
     "timestamp": 1586495971940,
     "user": {
      "displayName": "Alexy Robert",
      "photoUrl": "https://lh3.googleusercontent.com/a-/AOh14Ggz_PITpCVZkOGCc-PYV93u9s6v6n1BoAux_QBT=s64",
      "userId": "05809751795814209528"
     },
     "user_tz": -480
    },
    "id": "ohXkc4nZcSAr",
    "outputId": "292f3a85-8f61-41b4-c3a5-9e752ca23e36"
   },
   "outputs": [
    {
     "data": {
      "text/plain": [
       "0.14866068747318517"
      ]
     },
     "execution_count": 23,
     "metadata": {},
     "output_type": "execute_result"
    }
   ],
   "source": [
    "np.std(Dads)*100"
   ]
  },
  {
   "cell_type": "code",
   "execution_count": null,
   "metadata": {
    "id": "vvd6BCVcHjDO"
   },
   "outputs": [],
   "source": []
  },
  {
   "cell_type": "code",
   "execution_count": null,
   "metadata": {},
   "outputs": [],
   "source": []
  },
  {
   "cell_type": "markdown",
   "metadata": {},
   "source": [
    "## RWN"
   ]
  },
  {
   "cell_type": "code",
   "execution_count": 24,
   "metadata": {},
   "outputs": [],
   "source": [
    "import torch\n",
    "import torch.nn as nn\n",
    "from torch.nn import Linear\n",
    "import torch.nn.functional as F\n",
    "from torch_geometric.utils import remove_self_loops, add_self_loops,softmax\n",
    "from torch_geometric.nn.conv import MessagePassing"
   ]
  },
  {
   "cell_type": "code",
   "execution_count": 25,
   "metadata": {},
   "outputs": [],
   "source": [
    "# L2 normalized weights\n",
    "def Rand_aw(G, n=1):\n",
    "    #np.random.seed(1024)\n",
    "    A = nx.to_numpy_array(G, nodelist=range(len(G))) \n",
    "    w = np.random.random(A.shape)\n",
    "    A = A*w + n*np.eye(A.shape[0])\n",
    "    row_sum = np.sum(A**2, axis=1,keepdims=True)\n",
    "    A = A/(np.sqrt(row_sum)+1e-12)\n",
    "    return A"
   ]
  },
  {
   "cell_type": "code",
   "execution_count": 26,
   "metadata": {},
   "outputs": [],
   "source": [
    "data.to('cpu')\n",
    "edge_index, _ = remove_self_loops(data.edge_index)\n",
    "edge_index, _ = add_self_loops(edge_index, num_nodes=data.num_nodes)\n",
    "edges = edge_index.numpy().T\n",
    "# create a graph and feed it to Rand_aw\n",
    "rg = nx.Graph()\n",
    "\n",
    "rg.add_edges_from(edges)"
   ]
  },
  {
   "cell_type": "code",
   "execution_count": 27,
   "metadata": {},
   "outputs": [],
   "source": [
    "class rw_GNN(MessagePassing):\n",
    "    def __init__(self, in_channels, out_channels, rw, k=3, cached=True, bias=True,\n",
    "                 **kwargs):\n",
    "                 \n",
    "        super(rw_GNN, self).__init__(aggr='add', **kwargs)\n",
    "\n",
    "        self.in_channels = in_channels\n",
    "        self.out_channels = out_channels\n",
    "        self.k = k\n",
    "        self.cached = cached\n",
    "        self.lin = Linear(in_channels, out_channels, bias=bias)\n",
    "\n",
    "        if not torch.is_tensor(rw):\n",
    "                rw = torch.tensor(rw, dtype=data.x.dtype)\n",
    "        self.rw = rw.cuda()\n",
    "\n",
    "        self.reset_parameters()\n",
    "\n",
    "        \n",
    "    def reset_parameters(self):\n",
    "        self.lin.reset_parameters()\n",
    "        self.cached_result = None\n",
    "        self.cached_num_edges = None\n",
    "\n",
    "    def forward(self, x, edge_index):\n",
    "        \"\"\"\"\"\"\n",
    "        #x = self.lin(x) #训练阶段更新权重部分\n",
    "\n",
    "        # 训练时跳过的代码\n",
    "        if not self.cached or self.cached_result is None:\n",
    "            self.cached_num_edges = edge_index.size(1)\n",
    "            #edge_index 处理好\n",
    "            edge_index, _ = remove_self_loops(edge_index)\n",
    "            edge_index, _ = add_self_loops(edge_index, num_nodes=x.size(0))\n",
    "            #权值对齐\n",
    "            #rw的索引array与tensor均可\n",
    "            norm = self.rw[edge_index[1], edge_index[0]]\n",
    "            #按流向，信息是0行->1行；1⃣️1行为中心进行信息接收，所以权重以1行索引为首！\n",
    "            #print(norm.dtype)\n",
    "            \n",
    "            # x是特征--迭代初始space； 而x_norm 是用来计算权值矩阵/相似度矩阵的！\n",
    "            for k in range(self.k):\n",
    "                x = self.propagate(edge_index, x=x, norm=norm) \n",
    "            self.cached_result = x\n",
    "\n",
    "        #训练阶段更新权重部分\n",
    "        if self.cached:\n",
    "            x = self.lin(self.cached_result)\n",
    "        return x\n",
    "    \n",
    "    def message(self, x_j, norm):\n",
    "        return norm.view(-1, 1) * x_j\n",
    "\n",
    "    def __repr__(self):\n",
    "        return '{}({}, {}, K={})'.format(self.__class__.__name__,\n",
    "                                         self.in_channels, self.out_channels,\n",
    "                                         self.k)"
   ]
  },
  {
   "cell_type": "code",
   "execution_count": 28,
   "metadata": {},
   "outputs": [],
   "source": [
    "aw = Rand_aw(rg, n=1)"
   ]
  },
  {
   "cell_type": "code",
   "execution_count": 29,
   "metadata": {},
   "outputs": [],
   "source": [
    "class Net(nn.Module):\n",
    "    def __init__(self):\n",
    "        super(Net, self).__init__()\n",
    "        self.conv = rw_GNN(\n",
    "            num_features, num_classes, rw=aw , k=60, cached=True)\n",
    "\n",
    "    def forward(self):\n",
    "        x = self.conv(data.x, data.edge_index)\n",
    "        return F.log_softmax(x, dim=1)"
   ]
  },
  {
   "cell_type": "code",
   "execution_count": null,
   "metadata": {},
   "outputs": [],
   "source": []
  },
  {
   "cell_type": "code",
   "execution_count": 30,
   "metadata": {},
   "outputs": [
    {
     "name": "stdout",
     "output_type": "stream",
     "text": [
      "Test Accuracy 0.1350\n",
      "Test Accuracy 0.0740\n",
      "Test Accuracy 0.0670\n",
      "Test Accuracy 0.1420\n",
      "Test Accuracy 0.1470\n",
      "Test Accuracy 0.1160\n",
      "Test Accuracy 0.1560\n",
      "Test Accuracy 0.1500\n",
      "Test Accuracy 0.1400\n",
      "Test Accuracy 0.1500\n"
     ]
    }
   ],
   "source": [
    "das = []\n",
    "for _ in range(10):\n",
    "  device = torch.device('cuda' if torch.cuda.is_available() else 'cpu')\n",
    "  model, data = Net().to(device), data.to(device)\n",
    "\n",
    "  #cora_pytorch\n",
    "  optimizer = torch.optim.Adam(model.parameters(), lr=0.3, weight_decay=5e-3)\n",
    "  #pubmed\n",
    "  #optimizer = torch.optim.Adam(model.parameters(), lr=0.1, weight_decay=5e-3)\n",
    "  #pubmed_norm\n",
    "  #optimizer = torch.optim.Adam(model.parameters(), lr=0.3, weight_decay=5e-6)\n",
    "  #cite_seer,\n",
    "  #optimizer = torch.optim.Adam(model.parameters(), lr=0.08, weight_decay=5e-1)\n",
    "  def train():\n",
    "      model.train()\n",
    "      optimizer.zero_grad()\n",
    "      loss = F.nll_loss(model()[data.train_mask], data.y[data.train_mask])\n",
    "      loss.backward()\n",
    "      optimizer.step()\n",
    "      return loss\n",
    "\n",
    "  def test(mask):\n",
    "      model.eval()\n",
    "      with torch.no_grad():\n",
    "          logits = model()\n",
    "          pred = logits[mask].max(1)[1]\n",
    "          acc = pred.eq(data.y[mask]).sum().item() / mask.sum().item()\n",
    "          \n",
    "      return acc\n",
    "\n",
    "\n",
    "  early_stop = True\n",
    "  if early_stop:\n",
    "      stopper = EarlyStopping(patience=100)\n",
    "  dur = []\n",
    "  #print(model)\n",
    "\n",
    "  for epoch in range(1, 101):\n",
    "      model.train()\n",
    "      if epoch >= 3:\n",
    "          t0 = time.time()\n",
    "      loss = train()\n",
    "      \n",
    "      if epoch >= 3:\n",
    "          dur.append(time.time() - t0)\n",
    "      \n",
    "      val_acc = test(data.val_mask)\n",
    "      \n",
    "      if early_stop:\n",
    "          if stopper.step(val_acc, model):   \n",
    "              break\n",
    "      \n",
    "      \n",
    "  if early_stop:\n",
    "      model.load_state_dict(torch.load('es_checkpoint.pt'))\n",
    "  test_acc = test(data.test_mask)\n",
    "  das.append(test_acc)\n",
    "  print(\"Test Accuracy {:.4f}\".format(test_acc))"
   ]
  },
  {
   "cell_type": "code",
   "execution_count": 31,
   "metadata": {
    "scrolled": true
   },
   "outputs": [
    {
     "data": {
      "text/plain": [
       "(0.12769999999999998, 3.046653902234384)"
      ]
     },
     "execution_count": 31,
     "metadata": {},
     "output_type": "execute_result"
    }
   ],
   "source": [
    "np.mean(das), np.std(das)*100"
   ]
  },
  {
   "cell_type": "markdown",
   "metadata": {},
   "source": [
    "## load previously results: Iteration5-60, Feature dim = 300"
   ]
  },
  {
   "cell_type": "code",
   "execution_count": 33,
   "metadata": {},
   "outputs": [],
   "source": [
    "RMN = np.loadtxt('RWN_5_60_cora_300.txt')"
   ]
  },
  {
   "cell_type": "code",
   "execution_count": null,
   "metadata": {},
   "outputs": [],
   "source": []
  },
  {
   "cell_type": "code",
   "execution_count": 34,
   "metadata": {
    "scrolled": true
   },
   "outputs": [
    {
     "data": {
      "image/png": "[encoded data removed]",
      "text/plain": [
       "<Figure size 432x216 with 1 Axes>"
      ]
     },
     "metadata": {
      "needs_background": "light"
     },
     "output_type": "display_data"
    }
   ],
   "source": [
    "x = np.arange(5,65,5)\n",
    "y0 = DA[:,0]\n",
    "# example error bar values that vary with x-position\n",
    "error0 =DA[:,1]\n",
    "\n",
    "\n",
    "y1= RMN[:,0]\n",
    "# example error bar values that vary with x-position\n",
    "error1 =RMN[:,1]\n",
    "\n",
    "fig, ax = plt.subplots(figsize=(6,3))\n",
    "plt.grid(True)\n",
    "ax.errorbar(x, y0, yerr=error0, fmt='-o')\n",
    "ax.errorbar(x, y1, yerr=error1, fmt='-s')\n",
    "\n",
    "ax.set_title('Error Bar');"
   ]
  },
  {
   "cell_type": "code",
   "execution_count": null,
   "metadata": {},
   "outputs": [],
   "source": []
  },
  {
   "cell_type": "code",
   "execution_count": null,
   "metadata": {},
   "outputs": [],
   "source": []
  },
  {
   "cell_type": "code",
   "execution_count": null,
   "metadata": {},
   "outputs": [],
   "source": []
  },
  {
   "cell_type": "code",
   "execution_count": null,
   "metadata": {},
   "outputs": [],
   "source": []
  },
  {
   "cell_type": "code",
   "execution_count": null,
   "metadata": {},
   "outputs": [],
   "source": []
  },
  {
   "cell_type": "code",
   "execution_count": null,
   "metadata": {},
   "outputs": [],
   "source": []
  }
 ],
 "metadata": {
  "colab": {
   "authorship_tag": "ABX9TyPDvuHh4QvppaFBmnXrvJjQ",
   "collapsed_sections": [],
   "mount_file_id": "1A_BvV0sjIp-RAWk_doLXk5rt2YM-W2Wv",
   "name": "Random_SPIC.ipynb",
   "provenance": []
  },
  "kernelspec": {
   "display_name": "Python 3 (ipykernel)",
   "language": "python",
   "name": "python3"
  },
  "language_info": {
   "codemirror_mode": {
    "name": "ipython",
    "version": 3
   },
   "file_extension": ".py",
   "mimetype": "text/x-python",
   "name": "python",
   "nbconvert_exporter": "python",
   "pygments_lexer": "ipython3",
   "version": "3.7.9"
  }
 },
 "nbformat": 4,
 "nbformat_minor": 1
}
