{
 "cells": [
  {
   "cell_type": "markdown",
   "metadata": {
    "colab": {
     "base_uri": "https://localhost:8080/",
     "height": 36
    },
    "executionInfo": {
     "elapsed": 558,
     "status": "ok",
     "timestamp": 1639627469784,
     "user": {
      "displayName": "Xue Robert",
      "photoUrl": "https://lh3.googleusercontent.com/a-/AOh14Ggz_PITpCVZkOGCc-PYV93u9s6v6n1BoAux_QBT=s64",
      "userId": "05809751795814209528"
     },
     "user_tz": -480
    },
    "id": "ATF2JezNTxi0",
    "outputId": "cbfbe044-0e98-44f4-c088-2b0e439367fb"
   },
   "source": [
    "import torch_geometric\n",
    "\n",
    "torch_geometric.__version__ >>  '1.5.0'\n",
    "\n",
    "torch.__version__ >> '1.5.0'\n",
    "\n",
    "torch.version.cuda >> '10.2'\n",
    "\n",
    "torch.cuda.get_device_name(0) >> 'TITAN RTX'"
   ]
  },
  {
   "cell_type": "markdown",
   "metadata": {},
   "source": [
    "## load data"
   ]
  },
  {
   "cell_type": "code",
   "execution_count": 1,
   "metadata": {
    "executionInfo": {
     "elapsed": 492,
     "status": "ok",
     "timestamp": 1639627479898,
     "user": {
      "displayName": "Xue Robert",
      "photoUrl": "https://lh3.googleusercontent.com/a-/AOh14Ggz_PITpCVZkOGCc-PYV93u9s6v6n1BoAux_QBT=s64",
      "userId": "05809751795814209528"
     },
     "user_tz": -480
    },
    "id": "YMGIrkIkUi9Y"
   },
   "outputs": [],
   "source": [
    "from torch_geometric.datasets import Planetoid\n",
    "import os"
   ]
  },
  {
   "cell_type": "code",
   "execution_count": 2,
   "metadata": {},
   "outputs": [],
   "source": [
    "path = '/home/lixue/Ipy5/IrregularMessagePassing/data'"
   ]
  },
  {
   "cell_type": "code",
   "execution_count": null,
   "metadata": {},
   "outputs": [],
   "source": [
    "path = '/data'"
   ]
  },
  {
   "cell_type": "code",
   "execution_count": null,
   "metadata": {
    "id": "-8we0vHfUjBp"
   },
   "outputs": [],
   "source": [
    "Cora = Planetoid(root=path, name='Cora')\n",
    "cora = Cora[0]"
   ]
  },
  {
   "cell_type": "code",
   "execution_count": 3,
   "metadata": {
    "id": "fnT8zg55UjDw"
   },
   "outputs": [],
   "source": [
    "C_S = Planetoid(root=path, name='CiteSeer')\n",
    "cite_seer = C_S[0]"
   ]
  },
  {
   "cell_type": "code",
   "execution_count": null,
   "metadata": {
    "executionInfo": {
     "elapsed": 5973,
     "status": "ok",
     "timestamp": 1639627489821,
     "user": {
      "displayName": "Xue Robert",
      "photoUrl": "https://lh3.googleusercontent.com/a-/AOh14Ggz_PITpCVZkOGCc-PYV93u9s6v6n1BoAux_QBT=s64",
      "userId": "05809751795814209528"
     },
     "user_tz": -480
    },
    "id": "7ZDH0SwRUjF5"
   },
   "outputs": [],
   "source": [
    "PM = Planetoid(root=path, name='PubMed')\n",
    "pub_med = PM[0]"
   ]
  },
  {
   "cell_type": "code",
   "execution_count": null,
   "metadata": {},
   "outputs": [],
   "source": [
    "air = torch.load( os.path.join(path,'Air_USA.pt') )"
   ]
  },
  {
   "cell_type": "code",
   "execution_count": null,
   "metadata": {},
   "outputs": [],
   "source": [
    "db = torch.load( os.path.join(path,'dblp.pt') )"
   ]
  },
  {
   "cell_type": "code",
   "execution_count": null,
   "metadata": {},
   "outputs": [],
   "source": [
    "d_cora = torch.load( os.path.join(path,'dgl_cora.pt'))"
   ]
  },
  {
   "cell_type": "code",
   "execution_count": 4,
   "metadata": {
    "executionInfo": {
     "elapsed": 6,
     "status": "ok",
     "timestamp": 1639627489822,
     "user": {
      "displayName": "Xue Robert",
      "photoUrl": "https://lh3.googleusercontent.com/a-/AOh14Ggz_PITpCVZkOGCc-PYV93u9s6v6n1BoAux_QBT=s64",
      "userId": "05809751795814209528"
     },
     "user_tz": -480
    },
    "id": "_ySOprnXUjH5"
   },
   "outputs": [],
   "source": [
    "import torch\n",
    "import torch.nn as nn\n",
    "from torch.nn import Linear\n",
    "import torch.nn.functional as F\n",
    "from torch_geometric.utils import remove_self_loops, add_self_loops,softmax\n",
    "from torch_geometric.nn.conv import MessagePassing\n",
    "import time\n",
    "import numpy as np\n",
    "from utils import EarlyStopping"
   ]
  },
  {
   "cell_type": "code",
   "execution_count": null,
   "metadata": {},
   "outputs": [],
   "source": []
  },
  {
   "cell_type": "code",
   "execution_count": 5,
   "metadata": {
    "executionInfo": {
     "elapsed": 4,
     "status": "ok",
     "timestamp": 1639627495777,
     "user": {
      "displayName": "Xue Robert",
      "photoUrl": "https://lh3.googleusercontent.com/a-/AOh14Ggz_PITpCVZkOGCc-PYV93u9s6v6n1BoAux_QBT=s64",
      "userId": "05809751795814209528"
     },
     "user_tz": -480
    },
    "id": "jB90pUbmHTfa"
   },
   "outputs": [],
   "source": [
    "data = cite_seer\n",
    "num_features = data.num_features\n",
    "num_classes = len(set(data.y.numpy()))"
   ]
  },
  {
   "cell_type": "code",
   "execution_count": null,
   "metadata": {
    "executionInfo": {
     "elapsed": 520,
     "status": "ok",
     "timestamp": 1639627498337,
     "user": {
      "displayName": "Xue Robert",
      "photoUrl": "https://lh3.googleusercontent.com/a-/AOh14Ggz_PITpCVZkOGCc-PYV93u9s6v6n1BoAux_QBT=s64",
      "userId": "05809751795814209528"
     },
     "user_tz": -480
    },
    "id": "b_5LJ7XIp5VC"
   },
   "outputs": [],
   "source": [
    "#two ways for pubmed normalization\n",
    "#1:col normalize is better\n",
    "pub_max = data.x.max(dim=0,keepdim=True)[0]\n",
    "pub_min = data.x.min(dim=0,keepdim=True)[0]\n",
    "pub_x = (data.x - pub_min)/(pub_max-pub_min + 1e-12)\n",
    "data.x = pub_x"
   ]
  },
  {
   "cell_type": "code",
   "execution_count": null,
   "metadata": {
    "id": "xMSbDRKnqtu1"
   },
   "outputs": [],
   "source": [
    "#2 row normalize \n",
    "pub_max = data.x.max(dim=1,keepdim=True)[0]\n",
    "pub_min = data.x.min(dim=1,keepdim=True)[0]\n",
    "pub_x = (data.x - pub_min)/(pub_max-pub_min + 1e-12)\n",
    "data.x = pub_x"
   ]
  },
  {
   "cell_type": "markdown",
   "metadata": {
    "id": "Gf4twTexFUic"
   },
   "source": [
    "## Random Attention Network"
   ]
  },
  {
   "cell_type": "code",
   "execution_count": 6,
   "metadata": {
    "executionInfo": {
     "elapsed": 541,
     "status": "ok",
     "timestamp": 1639629509545,
     "user": {
      "displayName": "Xue Robert",
      "photoUrl": "https://lh3.googleusercontent.com/a-/AOh14Ggz_PITpCVZkOGCc-PYV93u9s6v6n1BoAux_QBT=s64",
      "userId": "05809751795814209528"
     },
     "user_tz": -480
    },
    "id": "1AigTRwLHTzq"
   },
   "outputs": [],
   "source": [
    "class RAN_Conv(MessagePassing):\n",
    "\n",
    "    def __init__(self, num_F, num_C,k=2,bias=True, cached=True, improved=False):\n",
    "        super(RAN_Conv, self).__init__(aggr='add')\n",
    "        print('random process...')\n",
    "        self.in_channels = num_F\n",
    "        self.out_channels = num_C\n",
    "        self.k = k\n",
    "        self.bias = bias\n",
    "        self.cached = cached\n",
    "        self.improved = improved\n",
    "        \n",
    "        \n",
    "        self.lin = nn.Linear(num_F, num_C, bias=bias)\n",
    "\n",
    "        self.att = torch.rand(1, 2*num_F).cuda()\n",
    "        \n",
    "        #==============Start::Manually choose Lp normalization====================\n",
    "        L2_att=1\n",
    "        if L2_att:\n",
    "          self.att = F.normalize(self.att,dim=1,p=2.0)\n",
    "\n",
    "        L1_att=0\n",
    "        if L1_att:\n",
    "          self.att = F.normalize(self.att,dim=1,p=1.0)\n",
    "        #=========================End::L2 by default=============================\n",
    "        \n",
    "        self.reset_parameters()\n",
    "\n",
    "    def reset_parameters(self):\n",
    "        self.lin.reset_parameters()\n",
    "        self.cached_result = None\n",
    "        self.cached_num_edges = None\n",
    "    \n",
    "    def My_norms(self, x, edge_index, num_nodes):\n",
    "        edge_index_j = edge_index[0]\n",
    "        edge_index_i = edge_index[1]\n",
    "        x_j = x[edge_index[0]]\n",
    "        x_i = x[edge_index[1]]\n",
    "        \n",
    "        alpha = (torch.cat([x_i, x_j], dim=-1) * self.att).sum(dim=-1)\n",
    "        \n",
    "        if self.improved:\n",
    "          self_weight = edge_index_i== edge_index_j\n",
    "          alpha[self_weight] += 1.0\n",
    "\n",
    "        #========================Start::No weight normlization by default======================\n",
    "        #L2 Edge weight norm\n",
    "        L2= 0\n",
    "        if L2:\n",
    "          print('L2')\n",
    "          n_sum = scatter(alpha**2, edge_index_i, dim=-1, dim_size=x.size(0),reduce='add')\n",
    "          n_sqrt = torch.sqrt(n_sum)\n",
    "          n_sqrt = n_sqrt[edge_index_i]\n",
    "          alpha = alpha/(n_sqrt+1e-12)\n",
    "\n",
    "        #L1 Edge weight norm\n",
    "        L1 = 0\n",
    "        if L1:\n",
    "          print('L1')\n",
    "          n_sum = scatter(abs(alpha), edge_index_i, dim=-1, dim_size=x.size(0),reduce='add')\n",
    "          n_sum = n_sum[edge_index_i]\n",
    "          alpha = alpha/(n_sum+1e-12)\n",
    "        \n",
    "        #max-min Edge weight norm\n",
    "        L_inf = 0\n",
    "        if L_inf:\n",
    "          print('L_inf')\n",
    "          n_max = scatter(abs(alpha), edge_index_i, dim=-1, dim_size=x.size(0),reduce='max')\n",
    "          n_min = scatter(abs(alpha), edge_index_i, dim=-1, dim_size=x.size(0),reduce='min')\n",
    "          n_mm = n_max - n_min\n",
    "          n_mm = n_mm[edge_index_i]\n",
    "          alpha = alpha - n_min[edge_index_i]\n",
    "          alpha = alpha/(n_mm+1e-12)\n",
    "        #=====================End::For Attention Norm vs Edge Weight Norm test================\n",
    "        \n",
    "        \n",
    "        alpha = softmax(alpha, edge_index_i, num_nodes=num_nodes)\n",
    "                \n",
    "        return alpha\n",
    "    \n",
    "    \n",
    "    def forward(self, x, edge_index, size=None):\n",
    "        \"\"\"\"\"\"\n",
    "\n",
    "        if not self.cached or self.cached_result is None:\n",
    "            self.cached_num_edges = edge_index.size(1)\n",
    "            \n",
    "            edge_index, _ = remove_self_loops(edge_index)\n",
    "            edge_index, _ = add_self_loops(edge_index, num_nodes=x.size(0))\n",
    "\n",
    "            norm = self.My_norms(x, edge_index, x.size(0))\n",
    "            for k in range(self.k):\n",
    "                x = self.propagate(edge_index, x=x, norm=norm) \n",
    "                \n",
    "            self.cached_result = x     \n",
    "            \n",
    "        if self.cached:\n",
    "            x = self.lin(self.cached_result)\n",
    "\n",
    "        return x\n",
    "\n",
    "\n",
    "    def message(self, x_j, norm):\n",
    "        return norm.view(-1, 1) * x_j\n",
    "    \n",
    "    def __repr__(self):\n",
    "        return '{}({}, {}, num_iter={})'.format(self.__class__.__name__,\n",
    "                                             self.in_channels,\n",
    "                                             self.out_channels, self.k)"
   ]
  },
  {
   "cell_type": "code",
   "execution_count": 7,
   "metadata": {
    "executionInfo": {
     "elapsed": 550,
     "status": "ok",
     "timestamp": 1639627533557,
     "user": {
      "displayName": "Xue Robert",
      "photoUrl": "https://lh3.googleusercontent.com/a-/AOh14Ggz_PITpCVZkOGCc-PYV93u9s6v6n1BoAux_QBT=s64",
      "userId": "05809751795814209528"
     },
     "user_tz": -480
    },
    "id": "SLn4kQsVd4zc"
   },
   "outputs": [],
   "source": [
    "class Net(torch.nn.Module):\n",
    "    def __init__(self):\n",
    "        super(Net, self).__init__()\n",
    "        self.conv = RAN_Conv(\n",
    "            num_features, num_classes,k=4, improved=True)\n",
    "\n",
    "    def forward(self):\n",
    "        x, edge_index = data.x, data.edge_index\n",
    "        x = self.conv(x, edge_index)\n",
    "        return F.log_softmax(x, dim=1)"
   ]
  },
  {
   "cell_type": "code",
   "execution_count": null,
   "metadata": {},
   "outputs": [],
   "source": []
  },
  {
   "cell_type": "code",
   "execution_count": 8,
   "metadata": {
    "colab": {
     "base_uri": "https://localhost:8080/"
    },
    "executionInfo": {
     "elapsed": 2046,
     "status": "ok",
     "timestamp": 1639627681525,
     "user": {
      "displayName": "Xue Robert",
      "photoUrl": "https://lh3.googleusercontent.com/a-/AOh14Ggz_PITpCVZkOGCc-PYV93u9s6v6n1BoAux_QBT=s64",
      "userId": "05809751795814209528"
     },
     "user_tz": -480
    },
    "id": "HzGZITu5d4-4",
    "outputId": "05f99fbc-003c-4b6a-9c33-c27f79be649d"
   },
   "outputs": [
    {
     "name": "stdout",
     "output_type": "stream",
     "text": [
      "random process...\n",
      "Test Accuracy 0.7290\n",
      "random process...\n",
      "Test Accuracy 0.7240\n",
      "random process...\n",
      "Test Accuracy 0.7300\n",
      "random process...\n",
      "Test Accuracy 0.7320\n",
      "random process...\n",
      "Test Accuracy 0.7250\n",
      "random process...\n",
      "Test Accuracy 0.7270\n",
      "random process...\n",
      "Test Accuracy 0.7250\n",
      "random process...\n",
      "Test Accuracy 0.7210\n",
      "random process...\n",
      "Test Accuracy 0.7220\n",
      "random process...\n",
      "Test Accuracy 0.7260\n"
     ]
    }
   ],
   "source": [
    "das = []\n",
    "for _ in range(10):\n",
    "  device = torch.device('cuda' if torch.cuda.is_available() else 'cpu')\n",
    "  model, data = Net().to(device), data.to(device)\n",
    "\n",
    "  #cora_pytorch k = 4\n",
    "  #optimizer = torch.optim.Adam(model.parameters(), lr=0.6, weight_decay=5e-3)\n",
    "\n",
    "  #pubmed  k = 2\n",
    "  #optimizer = torch.optim.Adam(model.parameters(), lr=0.4, weight_decay=5e-4)\n",
    "  #optimizer = torch.optim.Adam(model.parameters(), lr=0.5, weight_decay=5e-3)\n",
    "\n",
    "  #cite_seer k = 4\n",
    "  optimizer = torch.optim.Adam(model.parameters(), lr=0.2, weight_decay=5e-1)\n",
    " \n",
    "  #air \n",
    "  #optimizer = torch.optim.Adam(model.parameters(), lr=0.99, weight_decay=5e-5)\n",
    "    \n",
    "  #dblp\n",
    "  #optimizer = torch.optim.Adam(model.parameters(), lr=0.2, weight_decay=5e-4)\n",
    "    \n",
    "  #dgl_cora\n",
    "  #optimizer = torch.optim.Adam(model.parameters(), lr=0.99, weight_decay=5e-5)\n",
    "    \n",
    "  def train():\n",
    "      model.train()\n",
    "      optimizer.zero_grad()\n",
    "      loss = F.nll_loss(model()[data.train_mask], data.y[data.train_mask])\n",
    "      loss.backward()\n",
    "      optimizer.step()\n",
    "      return loss\n",
    "\n",
    "  def test(mask):\n",
    "      model.eval()\n",
    "      with torch.no_grad():\n",
    "          logits = model()\n",
    "          pred = logits[mask].max(1)[1]\n",
    "          acc = pred.eq(data.y[mask]).sum().item() / mask.sum().item()\n",
    "          \n",
    "      return acc\n",
    "\n",
    "\n",
    "  early_stop = True\n",
    "  if early_stop:\n",
    "      stopper = EarlyStopping(patience=100)\n",
    "  dur = []\n",
    "  #print(model)\n",
    "\n",
    "  for epoch in range(1, 101):\n",
    "      model.train()\n",
    "      if epoch >= 3:\n",
    "          t0 = time.time()\n",
    "      loss = train()\n",
    "      \n",
    "      if epoch >= 3:\n",
    "          dur.append(time.time() - t0)\n",
    "      \n",
    "      val_acc = test(data.val_mask)\n",
    "      \n",
    "      if early_stop:\n",
    "          if stopper.step(val_acc, model):   \n",
    "              break\n",
    "      \n",
    "      '''print(\"Epoch {:05d} | Time(s) {:.4f} | Loss {:.4f} | \"\n",
    "                \" ValAcc {:.4f}\".\n",
    "                format(epoch, np.mean(dur), loss, val_acc))'''\n",
    "      \n",
    "  #print() # 空出一行\n",
    "      \n",
    "  if early_stop:\n",
    "      model.load_state_dict(torch.load('es_checkpoint.pt'))\n",
    "  test_acc = test(data.test_mask)\n",
    "  das.append(test_acc)\n",
    "  print(\"Test Accuracy {:.4f}\".format(test_acc))"
   ]
  },
  {
   "cell_type": "code",
   "execution_count": 9,
   "metadata": {
    "colab": {
     "base_uri": "https://localhost:8080/"
    },
    "executionInfo": {
     "elapsed": 614,
     "status": "ok",
     "timestamp": 1639359303931,
     "user": {
      "displayName": "Xue Robert",
      "photoUrl": "https://lh3.googleusercontent.com/a-/AOh14Ggz_PITpCVZkOGCc-PYV93u9s6v6n1BoAux_QBT=s64",
      "userId": "05809751795814209528"
     },
     "user_tz": -480
    },
    "id": "LLZOhKSXbSIu",
    "outputId": "40911f8b-c3c8-4e66-bfc0-4090c068cffa"
   },
   "outputs": [
    {
     "data": {
      "text/plain": [
       "72.61"
      ]
     },
     "execution_count": 9,
     "metadata": {},
     "output_type": "execute_result"
    }
   ],
   "source": [
    "np.mean(das)*100"
   ]
  },
  {
   "cell_type": "code",
   "execution_count": 10,
   "metadata": {},
   "outputs": [
    {
     "data": {
      "text/plain": [
       "0.33000000000000024"
      ]
     },
     "execution_count": 10,
     "metadata": {},
     "output_type": "execute_result"
    }
   ],
   "source": [
    "np.std(das)*100"
   ]
  },
  {
   "cell_type": "markdown",
   "metadata": {
    "id": "wL8bfGzUcopu"
   },
   "source": [
    "### <font color='blue'>Try to tune k and you can get a better result than that of my paper!</font>"
   ]
  },
  {
   "cell_type": "code",
   "execution_count": null,
   "metadata": {
    "id": "pfDm5rMoconC"
   },
   "outputs": [],
   "source": []
  },
  {
   "cell_type": "code",
   "execution_count": null,
   "metadata": {
    "id": "th31ZJOkY8pb"
   },
   "outputs": [],
   "source": []
  },
  {
   "cell_type": "code",
   "execution_count": null,
   "metadata": {
    "id": "zMf9geBSY80i"
   },
   "outputs": [],
   "source": []
  }
 ],
 "metadata": {
  "colab": {
   "authorship_tag": "ABX9TyP/Ks15XJlUyV7N0fFWJyhS",
   "collapsed_sections": [],
   "mount_file_id": "12DjSVIzMAj4jfMvHxFPurQOFJLCXFYkp",
   "name": "RAN Test.ipynb",
   "provenance": []
  },
  "kernelspec": {
   "display_name": "Python 3 (ipykernel)",
   "language": "python",
   "name": "python3"
  },
  "language_info": {
   "codemirror_mode": {
    "name": "ipython",
    "version": 3
   },
   "file_extension": ".py",
   "mimetype": "text/x-python",
   "name": "python",
   "nbconvert_exporter": "python",
   "pygments_lexer": "ipython3",
   "version": "3.7.6"
  }
 },
 "nbformat": 4,
 "nbformat_minor": 1
}
