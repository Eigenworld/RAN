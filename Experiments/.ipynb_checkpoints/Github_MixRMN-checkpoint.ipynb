{
 "cells": [
  {
   "cell_type": "code",
   "execution_count": 1,
   "metadata": {},
   "outputs": [],
   "source": [
    "import torch\n",
    "import time\n",
    "import torch.nn as nn\n",
    "from torch.nn import Parameter\n",
    "import torch.nn.functional as F\n",
    "from torch_geometric.utils import remove_self_loops, add_self_loops, softmax\n",
    "from torch_geometric.nn.inits import glorot, zeros\n",
    "from utils import EarlyStopping\n",
    "from torch_geometric.datasets import Planetoid\n",
    "#from torch_geometric.utils import scatter_\n",
    "from torch_scatter import scatter\n",
    "from sklearn.metrics import f1_score\n",
    "import networkx as nx\n",
    "import numpy as np\n",
    "import random\n",
    "import matplotlib.pyplot as plt\n",
    "%matplotlib inline"
   ]
  },
  {
   "cell_type": "code",
   "execution_count": 2,
   "metadata": {},
   "outputs": [],
   "source": [
    "path = %pwd"
   ]
  },
  {
   "cell_type": "code",
   "execution_count": null,
   "metadata": {},
   "outputs": [],
   "source": []
  },
  {
   "cell_type": "markdown",
   "metadata": {},
   "source": [
    "## Cora"
   ]
  },
  {
   "cell_type": "code",
   "execution_count": null,
   "metadata": {},
   "outputs": [],
   "source": [
    "Cora = Planetoid(root= path, name='Cora')\n",
    "data = Cora[0]"
   ]
  },
  {
   "cell_type": "markdown",
   "metadata": {},
   "source": [
    "## Cora_DGL"
   ]
  },
  {
   "cell_type": "code",
   "execution_count": null,
   "metadata": {},
   "outputs": [],
   "source": [
    "import os"
   ]
  },
  {
   "cell_type": "code",
   "execution_count": null,
   "metadata": {},
   "outputs": [],
   "source": [
    "data = torch.load( os.path.join(path,'dgl_cora.pt'))"
   ]
  },
  {
   "cell_type": "markdown",
   "metadata": {},
   "source": [
    "## CiteSeer"
   ]
  },
  {
   "cell_type": "code",
   "execution_count": 3,
   "metadata": {},
   "outputs": [],
   "source": [
    "CS = Planetoid(root= path, name='CiteSeer')\n",
    "data = CS[0]"
   ]
  },
  {
   "cell_type": "markdown",
   "metadata": {},
   "source": [
    "## PubMed"
   ]
  },
  {
   "cell_type": "code",
   "execution_count": null,
   "metadata": {},
   "outputs": [],
   "source": [
    "PM = Planetoid(root= path, name='PubMed')\n",
    "data = PM[0]"
   ]
  },
  {
   "cell_type": "code",
   "execution_count": null,
   "metadata": {},
   "outputs": [],
   "source": [
    "#pubmed 特征预处理\n",
    "#1:特征最大最小归一\n",
    "pub_max = data.x.max(dim=0,keepdim=True)[0]\n",
    "pub_min = data.x.min(dim=0,keepdim=True)[0]\n",
    "pub_x = (data.x - pub_min)/(pub_max-pub_min + 1e-12)\n",
    "data.x = pub_x"
   ]
  },
  {
   "cell_type": "markdown",
   "metadata": {},
   "source": [
    "## Air_USA"
   ]
  },
  {
   "cell_type": "code",
   "execution_count": null,
   "metadata": {},
   "outputs": [],
   "source": [
    "data = torch.load('Air_USA.pt')"
   ]
  },
  {
   "cell_type": "markdown",
   "metadata": {},
   "source": [
    "## DBLP"
   ]
  },
  {
   "cell_type": "code",
   "execution_count": null,
   "metadata": {},
   "outputs": [],
   "source": [
    "data = torch.load('dblp.pt')"
   ]
  },
  {
   "cell_type": "code",
   "execution_count": null,
   "metadata": {},
   "outputs": [],
   "source": []
  },
  {
   "cell_type": "code",
   "execution_count": 4,
   "metadata": {},
   "outputs": [
    {
     "data": {
      "text/plain": [
       "6"
      ]
     },
     "execution_count": 4,
     "metadata": {},
     "output_type": "execute_result"
    }
   ],
   "source": [
    "num_c = len(set(data.y.tolist()))\n",
    "num_c"
   ]
  },
  {
   "cell_type": "code",
   "execution_count": null,
   "metadata": {},
   "outputs": [],
   "source": []
  },
  {
   "cell_type": "code",
   "execution_count": 5,
   "metadata": {},
   "outputs": [],
   "source": [
    "device = torch.device('cuda' if torch.cuda.is_available() else 'cpu')\n",
    "\n",
    "data = data.to(device)"
   ]
  },
  {
   "cell_type": "code",
   "execution_count": null,
   "metadata": {},
   "outputs": [],
   "source": []
  },
  {
   "cell_type": "code",
   "execution_count": 6,
   "metadata": {},
   "outputs": [],
   "source": [
    "def RMN(x, num_nodes, num_F, heads, edge_index, concat=False):\n",
    "    alphas = torch.rand(1, heads, num_F*2).to(device)\n",
    "    cat_x = torch.cat([x]*heads, dim=1)\n",
    "    \n",
    "    edge_index, _ = remove_self_loops(edge_index)\n",
    "    edge_index, _ = add_self_loops(edge_index, num_nodes=num_nodes)\n",
    "    #alculate alpha\n",
    "    alphas = alphas.reshape(heads, num_F*2).T\n",
    "    alphas /= torch.sqrt(torch.sum(alphas**2, dim=0))\n",
    "    \n",
    "    att = alphas.T.reshape(1, heads, num_F*2)\n",
    "    x_j = cat_x[edge_index[0]]\n",
    "    x_j = x_j.view(-1, heads, num_F)\n",
    "    x_i = cat_x[edge_index[1]]\n",
    "    x_i = x_i.view(-1, heads, num_F)\n",
    "    t = torch.cat([x_j.T, x_i.T], dim=0)\n",
    "    t = t.permute(2,1,0)\n",
    "    \n",
    "    alpha = (t*att).sum(dim=-1)\n",
    "    alpha = softmax(alpha, edge_index[1], num_nodes)\n",
    "    out = x_j * alpha.view(-1, heads, 1)\n",
    "    out = scatter(out, edge_index[1], dim=0, dim_size=num_nodes,reduce='add')\n",
    "    if concat is True:\n",
    "        aggr_out = out.view(-1, heads * num_F)\n",
    "    else:\n",
    "        aggr_out = out.mean(dim=1)\n",
    "    return aggr_out"
   ]
  },
  {
   "cell_type": "code",
   "execution_count": null,
   "metadata": {},
   "outputs": [],
   "source": []
  },
  {
   "cell_type": "code",
   "execution_count": 7,
   "metadata": {},
   "outputs": [],
   "source": [
    "a = RMN(x=data.x,num_nodes=data.num_nodes, num_F=data.num_features,\\\n",
    "           heads=4, edge_index=data.edge_index, concat=False)"
   ]
  },
  {
   "cell_type": "code",
   "execution_count": 8,
   "metadata": {},
   "outputs": [],
   "source": [
    "b = RMN(x=a, num_nodes=data.num_nodes, num_F=a.size()[1],\\\n",
    "           heads=4, edge_index=data.edge_index, concat=False)"
   ]
  },
  {
   "cell_type": "code",
   "execution_count": null,
   "metadata": {},
   "outputs": [],
   "source": []
  },
  {
   "cell_type": "code",
   "execution_count": 9,
   "metadata": {},
   "outputs": [],
   "source": [
    "class mlp(torch.nn.Module):\n",
    "     def __init__(self, num_F, num_C, bias=True, **kwargs):\n",
    "            super(mlp, self).__init__(**kwargs)\n",
    "            self.num_F = num_F\n",
    "            self.num_C = num_C\n",
    "            self.weight = Parameter(\n",
    "            torch.Tensor(num_F, num_C))\n",
    "            if bias:\n",
    "                self.bias = Parameter(torch.Tensor(num_C))\n",
    "            else:\n",
    "                self.register_parameter('bias', None)\n",
    "            self.reset_parameters()\n",
    "        \n",
    "     def reset_parameters(self):\n",
    "        glorot(self.weight)\n",
    "        zeros(self.bias)\n",
    "        \n",
    "     def forward(self, x):\n",
    "        outs = torch.matmul(x, self.weight)\n",
    "        if self.bias is not None:\n",
    "            outs = outs + self.bias\n",
    "        return outs"
   ]
  },
  {
   "cell_type": "code",
   "execution_count": 10,
   "metadata": {},
   "outputs": [],
   "source": [
    "class Net(torch.nn.Module):\n",
    "    def __init__(self):\n",
    "        super(Net, self).__init__()\n",
    "        self.conv = mlp(num_F=b.size()[1], num_C=num_c)\n",
    "\n",
    "    def forward(self):\n",
    "        self.x_ran = self.conv(b)\n",
    "        l1 = 0.5\n",
    "        l2 = 0.5\n",
    "        self.mix_F = l1*self.x_ran + l2*model2.x_dad\n",
    "        return F.log_softmax(self.mix_F, dim=1)"
   ]
  },
  {
   "cell_type": "markdown",
   "metadata": {},
   "source": [
    "## Pseudo Label"
   ]
  },
  {
   "cell_type": "code",
   "execution_count": 11,
   "metadata": {},
   "outputs": [],
   "source": [
    "def labels_to_onehot(labels):\n",
    "    nclass = max(labels.tolist()) + 1\n",
    "    labels_onehot = []\n",
    "    for i in labels:\n",
    "        onehot = [0] * nclass\n",
    "        if i >= 0:\n",
    "            onehot[i] = 1\n",
    "        labels_onehot.append(onehot)\n",
    "    return torch.FloatTensor(labels_onehot)"
   ]
  },
  {
   "cell_type": "markdown",
   "metadata": {},
   "source": [
    "## Move to bottom to run DAD/SGC"
   ]
  },
  {
   "cell_type": "code",
   "execution_count": null,
   "metadata": {},
   "outputs": [],
   "source": []
  },
  {
   "cell_type": "code",
   "execution_count": 50,
   "metadata": {
    "scrolled": false
   },
   "outputs": [
    {
     "name": "stdout",
     "output_type": "stream",
     "text": [
      "Net(\n",
      "  (conv): mlp()\n",
      ")\n",
      "\n",
      "Test Accuracy 0.7460\n",
      "Net(\n",
      "  (conv): mlp()\n",
      ")\n",
      "\n",
      "Test Accuracy 0.7450\n",
      "Net(\n",
      "  (conv): mlp()\n",
      ")\n",
      "\n",
      "Test Accuracy 0.7430\n",
      "Net(\n",
      "  (conv): mlp()\n",
      ")\n",
      "\n",
      "Test Accuracy 0.7430\n",
      "Net(\n",
      "  (conv): mlp()\n",
      ")\n",
      "\n",
      "Test Accuracy 0.7450\n",
      "Net(\n",
      "  (conv): mlp()\n",
      ")\n",
      "\n",
      "Test Accuracy 0.7320\n",
      "Net(\n",
      "  (conv): mlp()\n",
      ")\n",
      "\n",
      "Test Accuracy 0.7460\n",
      "Net(\n",
      "  (conv): mlp()\n",
      ")\n",
      "\n",
      "Test Accuracy 0.7430\n",
      "Net(\n",
      "  (conv): mlp()\n",
      ")\n",
      "\n",
      "Test Accuracy 0.7420\n",
      "Net(\n",
      "  (conv): mlp()\n",
      ")\n",
      "\n",
      "Test Accuracy 0.7390\n"
     ]
    }
   ],
   "source": [
    "gcns = []\n",
    "tau = 0.001\n",
    "p1= 0.2\n",
    "p2= 1.4\n",
    "\n",
    "for _ in range(10):\n",
    "    \n",
    "    device = torch.device('cuda' if torch.cuda.is_available() else 'cpu')\n",
    "    model = Net().to(device)\n",
    "    unlabeled_mask = data.train_mask==False\n",
    "    \n",
    "    train_labels = labels_to_onehot(data.y[data.train_mask]).to(device)\n",
    "    #cora\n",
    "    #optimizer = torch.optim.Adam(model.parameters(), lr=0.2, weight_decay=5e-3)\n",
    "    #optimizer = torch.optim.Adam(model.parameters(), lr=0.8, weight_decay=5e-5)\n",
    "    #cite_seer\n",
    "    optimizer = torch.optim.Adam(model.parameters(), lr=0.04, weight_decay=5e-1)\n",
    "    #pubmed \n",
    "    #optimizer = torch.optim.Adam(model.parameters(), lr=0.01, weight_decay=5e-1)\n",
    "    #optimizer = torch.optim.Adam(model.parameters(), lr=0.5, weight_decay=5e-4)\n",
    "    \n",
    "\n",
    "    def pred():\n",
    "        #用来计算损失的伪标签\n",
    "        model.eval()\n",
    "        with torch.no_grad():\n",
    "            logits = torch.softmax(model() /tau, dim=-1).detach()\n",
    "        return logits\n",
    "    \n",
    "    def train(target,p1,p2):\n",
    "        p1 = p1\n",
    "        p2 = p2\n",
    "        model.train()\n",
    "        optimizer.zero_grad()\n",
    "\n",
    "        loss = -torch.mean(torch.sum(target[data.train_mask] * model()[data.train_mask], dim=1))\n",
    "        loss_u = -torch.mean(torch.sum(target[unlabeled_mask] * model()[unlabeled_mask], dim=1))\n",
    "        loss = p1*loss + p2 * loss_u\n",
    "        \n",
    "        loss.backward()\n",
    "        optimizer.step()\n",
    "        return loss\n",
    "\n",
    "    def test(mask):\n",
    "        model.eval()\n",
    "        with torch.no_grad():\n",
    "            logits = model()\n",
    "            pred = logits[mask].max(1)[1]\n",
    "            acc = pred.eq(data.y[mask]).sum().item() / mask.sum().item()\n",
    "          \n",
    "        return acc\n",
    "\n",
    "    early_stop = True\n",
    "    if early_stop:\n",
    "        stopper = EarlyStopping(patience=50)\n",
    "    dur = []\n",
    "    print(model)\n",
    "\n",
    "    for epoch in range(1, 101):\n",
    "        model.train()\n",
    "        if epoch >= 3:\n",
    "            t0 = time.time()\n",
    "        #if epoch%20==0:\n",
    "        target = pred()\n",
    "        target[data.train_mask] = train_labels\n",
    "        \n",
    "        loss = train(target,p1,p2)\n",
    "\n",
    "        if epoch >= 3:\n",
    "            dur.append(time.time() - t0)\n",
    "\n",
    "        val_acc = test(data.val_mask)\n",
    "\n",
    "        if early_stop:\n",
    "            if stopper.step(val_acc, model):   \n",
    "                break\n",
    "\n",
    "    print() \n",
    "\n",
    "    if early_stop:\n",
    "        model.load_state_dict(torch.load('es_checkpoint.pt'))\n",
    "    test_acc = test(data.test_mask)\n",
    "    gcns.append(test_acc)\n",
    "    print(\"Test Accuracy {:.4f}\".format(test_acc))"
   ]
  },
  {
   "cell_type": "code",
   "execution_count": 51,
   "metadata": {},
   "outputs": [
    {
     "data": {
      "text/plain": [
       "0.7424"
      ]
     },
     "execution_count": 51,
     "metadata": {},
     "output_type": "execute_result"
    }
   ],
   "source": [
    "np.mean(gcns)"
   ]
  },
  {
   "cell_type": "code",
   "execution_count": 52,
   "metadata": {},
   "outputs": [
    {
     "data": {
      "text/plain": [
       "0.40049968789001605"
      ]
     },
     "execution_count": 52,
     "metadata": {},
     "output_type": "execute_result"
    }
   ],
   "source": [
    "np.std(gcns)*100"
   ]
  },
  {
   "cell_type": "code",
   "execution_count": null,
   "metadata": {},
   "outputs": [],
   "source": []
  },
  {
   "cell_type": "code",
   "execution_count": null,
   "metadata": {},
   "outputs": [],
   "source": []
  },
  {
   "cell_type": "markdown",
   "metadata": {},
   "source": [
    "## DAD"
   ]
  },
  {
   "cell_type": "code",
   "execution_count": 13,
   "metadata": {},
   "outputs": [],
   "source": [
    "import torch\n",
    "import torch.nn as nn\n",
    "from torch.nn import Linear\n",
    "from torch_scatter import scatter_add\n",
    "from torch_geometric.nn.conv import MessagePassing\n",
    "from torch_geometric.utils import add_remaining_self_loops\n",
    "from torch_geometric.nn.inits import uniform\n",
    "\n",
    "\n",
    "class DAD(MessagePassing):\n",
    "    def __init__(self, in_channels, out_channels, K=1, cached=True, bias=True,\n",
    "                 improve=False, **kwargs):\n",
    "        super(DAD, self).__init__(aggr='add', **kwargs)\n",
    "\n",
    "        self.in_channels = in_channels\n",
    "        self.out_channels = out_channels\n",
    "        self.K = K\n",
    "        self.improve = improve\n",
    "        self.cached = cached\n",
    "\n",
    "        self.lin = Linear(in_channels, out_channels, bias=bias)\n",
    "\n",
    "        self.reset_parameters()\n",
    " \n",
    "    def reset_parameters(self):\n",
    "        self.lin.reset_parameters()\n",
    "        self.cached_result = None\n",
    "\n",
    "    def forward(self, x, edge_index, edge_weight=None):\n",
    "        \"\"\"\"\"\"\n",
    "\n",
    "        if not self.cached or self.cached_result is None:\n",
    "            self.cached_num_edges = edge_index.size(1)\n",
    "            edge_index, norm = self.My_norms(edge_index, x.size(0), edge_weight, self.improve\n",
    "                                            , dtype=x.dtype)\n",
    "            for k in range(self.K):\n",
    "                x = self.propagate(edge_index, x=x, norm=norm)\n",
    "                \n",
    "            self.cached_result = x\n",
    "\n",
    "        if self.cached:\n",
    "            x = self.lin(self.cached_result)\n",
    "\n",
    "        return x\n",
    "    \n",
    "    def My_norms(self, edge_index, num_nodes, edge_weight=None, improved=False,\n",
    "             dtype=None):\n",
    "        if edge_weight is None:\n",
    "            edge_weight = torch.ones((edge_index.size(1), ), dtype=dtype,\n",
    "                                     device=edge_index.device)\n",
    "\n",
    "        fill_value = 1 if not improved else 2\n",
    "        edge_index, edge_weight = add_remaining_self_loops(\n",
    "            edge_index, edge_weight, fill_value, num_nodes)\n",
    "\n",
    "        row, col = edge_index\n",
    "        deg = scatter_add(edge_weight, row, dim=0, dim_size=num_nodes)\n",
    "        deg_inv_sqrt = deg.pow(-0.5)\n",
    "        deg_inv_sqrt[deg_inv_sqrt == float('inf')] = 0\n",
    "\n",
    "        return edge_index, deg_inv_sqrt[col] * edge_weight*deg_inv_sqrt[row] \n",
    "        \n",
    "    def message(self, x_j, norm):\n",
    "        return norm.view(-1, 1) * x_j\n",
    "\n",
    "    def __repr__(self):\n",
    "        return '{}({}, {}, K={})'.format(self.__class__.__name__,\n",
    "                                         self.in_channels, self.out_channels,\n",
    "                                         self.K)"
   ]
  },
  {
   "cell_type": "code",
   "execution_count": null,
   "metadata": {},
   "outputs": [],
   "source": []
  },
  {
   "cell_type": "code",
   "execution_count": 14,
   "metadata": {},
   "outputs": [],
   "source": [
    "class Net2(torch.nn.Module):\n",
    "    def __init__(self):\n",
    "        super(Net2, self).__init__()\n",
    "        self.conv1 = DAD(\n",
    "            data.num_features, num_c, K=2, cached=True, improve=True)\n",
    "\n",
    "    def forward(self):\n",
    "        self.x_dad = self.conv1(data.x, data.edge_index)\n",
    "        return F.log_softmax(self.x_dad, dim=1)"
   ]
  },
  {
   "cell_type": "code",
   "execution_count": null,
   "metadata": {},
   "outputs": [],
   "source": []
  },
  {
   "cell_type": "code",
   "execution_count": 40,
   "metadata": {
    "scrolled": true
   },
   "outputs": [
    {
     "name": "stdout",
     "output_type": "stream",
     "text": [
      "Net2(\n",
      "  (conv1): DAD(3703, 6, K=2)\n",
      ")\n",
      "\n",
      "============================================\n",
      "Test Accuracy 0.7300\n",
      "Net2(\n",
      "  (conv1): DAD(3703, 6, K=2)\n",
      ")\n",
      "\n",
      "Test Accuracy 0.7240\n",
      "Net2(\n",
      "  (conv1): DAD(3703, 6, K=2)\n",
      ")\n",
      "\n",
      "Test Accuracy 0.7210\n",
      "Net2(\n",
      "  (conv1): DAD(3703, 6, K=2)\n",
      ")\n",
      "\n",
      "Test Accuracy 0.7190\n",
      "Net2(\n",
      "  (conv1): DAD(3703, 6, K=2)\n",
      ")\n",
      "\n",
      "Test Accuracy 0.7210\n",
      "Net2(\n",
      "  (conv1): DAD(3703, 6, K=2)\n",
      ")\n",
      "\n",
      "Test Accuracy 0.7190\n",
      "Net2(\n",
      "  (conv1): DAD(3703, 6, K=2)\n",
      ")\n",
      "\n",
      "Test Accuracy 0.7210\n",
      "Net2(\n",
      "  (conv1): DAD(3703, 6, K=2)\n",
      ")\n",
      "\n",
      "Test Accuracy 0.7180\n",
      "Net2(\n",
      "  (conv1): DAD(3703, 6, K=2)\n",
      ")\n",
      "\n",
      "Test Accuracy 0.7210\n",
      "Net2(\n",
      "  (conv1): DAD(3703, 6, K=2)\n",
      ")\n",
      "\n",
      "Test Accuracy 0.7160\n"
     ]
    }
   ],
   "source": [
    "dads = []\n",
    "\n",
    "for _ in range(10):\n",
    "  device = torch.device('cuda' if torch.cuda.is_available() else 'cpu')\n",
    "  model2, data = Net2().to(device), data.to(device)\n",
    "    \n",
    "  #cora_dad\n",
    "  #optimizer = torch.optim.Adam(model2.parameters(), lr=0.8, weight_decay=5e-3)\n",
    "  #cora_dgl，k=5\n",
    "  #optimizer = torch.optim.Adam(model2.parameters(), lr=0.8, weight_decay=5e-6)\n",
    "  #pubmed_dad k=3\n",
    "  #optimizer = torch.optim.Adam(model2.parameters(), lr=0.5, weight_decay=5e-4)\n",
    "  #cite_seer_dad sure k=2\n",
    "  optimizer = torch.optim.Adam(model2.parameters(), lr=0.1, weight_decay=5e-2)\n",
    "  #air\n",
    "  #optimizer = torch.optim.Adam(model2.parameters(), lr=0.5, weight_decay=5e-6)\n",
    "  def train():\n",
    "      model2.train()\n",
    "      optimizer.zero_grad()\n",
    "      loss = F.nll_loss(model2()[data.train_mask], data.y[data.train_mask])\n",
    "      loss.backward()\n",
    "      optimizer.step()\n",
    "      return loss\n",
    "\n",
    "  def test(mask):\n",
    "      model2.eval()\n",
    "      with torch.no_grad():\n",
    "          logits = model2()\n",
    "          pred = logits[mask].max(1)[1]\n",
    "          acc = pred.eq(data.y[mask]).sum().item() / mask.sum().item()\n",
    "          \n",
    "      return acc\n",
    "\n",
    "\n",
    "  early_stop = True\n",
    "  if early_stop:\n",
    "      stopper = EarlyStopping(patience=60)\n",
    "  dur = []\n",
    "  print(model2)\n",
    "\n",
    "  for epoch in range(1, 101):\n",
    "      model2.train()\n",
    "      if epoch >= 3:\n",
    "          t0 = time.time()\n",
    "      loss = train()\n",
    "      \n",
    "      if epoch >= 3:\n",
    "          dur.append(time.time() - t0)\n",
    "      \n",
    "      val_acc = test(data.val_mask)\n",
    "      \n",
    "      if early_stop:\n",
    "          if stopper.step(val_acc, model2):   \n",
    "              break\n",
    "      \n",
    "      \n",
    "  print() \n",
    "      \n",
    "  if early_stop:\n",
    "      model2.load_state_dict(torch.load('es_checkpoint.pt'))\n",
    "  test_acc = test(data.test_mask)\n",
    "  dads.append(test_acc)\n",
    "  \n",
    "\n",
    "  if test_acc >= np.max(dads):\n",
    "  #if test_acc>=0.730 and test_acc<0.731:\n",
    "        print('============================================')\n",
    "        torch.save(model2.state_dict(), 'Cora_checkpoint.pt')\n",
    "    \n",
    "    \n",
    "        \n",
    "\n",
    "  print(\"Test Accuracy {:.4f}\".format(test_acc))"
   ]
  },
  {
   "cell_type": "code",
   "execution_count": 41,
   "metadata": {},
   "outputs": [
    {
     "data": {
      "text/plain": [
       "[0.73, 0.724, 0.721, 0.719, 0.721, 0.719, 0.721, 0.718, 0.721, 0.716]"
      ]
     },
     "execution_count": 41,
     "metadata": {},
     "output_type": "execute_result"
    }
   ],
   "source": [
    "dads"
   ]
  },
  {
   "cell_type": "code",
   "execution_count": 42,
   "metadata": {},
   "outputs": [
    {
     "data": {
      "text/plain": [
       "0.721"
      ]
     },
     "execution_count": 42,
     "metadata": {},
     "output_type": "execute_result"
    }
   ],
   "source": [
    "np.mean(dads)"
   ]
  },
  {
   "cell_type": "code",
   "execution_count": 43,
   "metadata": {},
   "outputs": [
    {
     "data": {
      "text/plain": [
       "0.3633180424916993"
      ]
     },
     "execution_count": 43,
     "metadata": {},
     "output_type": "execute_result"
    }
   ],
   "source": [
    "np.std(dads)*100"
   ]
  },
  {
   "cell_type": "code",
   "execution_count": 44,
   "metadata": {},
   "outputs": [],
   "source": [
    "model2 = Net2().to(device)"
   ]
  },
  {
   "cell_type": "code",
   "execution_count": 45,
   "metadata": {},
   "outputs": [
    {
     "data": {
      "text/plain": [
       "<All keys matched successfully>"
      ]
     },
     "execution_count": 45,
     "metadata": {},
     "output_type": "execute_result"
    }
   ],
   "source": [
    "model2.load_state_dict(torch.load('Cora_checkpoint.pt'))"
   ]
  },
  {
   "cell_type": "code",
   "execution_count": 22,
   "metadata": {},
   "outputs": [],
   "source": [
    "def test(mask):\n",
    "      model2.eval()\n",
    "      with torch.no_grad():\n",
    "          logits = model2()\n",
    "          pred = logits[mask].max(1)[1]\n",
    "          acc = pred.eq(data.y[mask]).sum().item() / mask.sum().item()\n",
    "          \n",
    "      return acc"
   ]
  },
  {
   "cell_type": "code",
   "execution_count": 46,
   "metadata": {},
   "outputs": [
    {
     "data": {
      "text/plain": [
       "0.73"
      ]
     },
     "execution_count": 46,
     "metadata": {},
     "output_type": "execute_result"
    }
   ],
   "source": [
    "test(data.test_mask)"
   ]
  },
  {
   "cell_type": "code",
   "execution_count": 35,
   "metadata": {},
   "outputs": [
    {
     "data": {
      "text/plain": [
       "torch.Size([3327, 6])"
      ]
     },
     "execution_count": 35,
     "metadata": {},
     "output_type": "execute_result"
    }
   ],
   "source": [
    "model2.x_dad.shape"
   ]
  },
  {
   "cell_type": "markdown",
   "metadata": {},
   "source": [
    "## Back to train"
   ]
  },
  {
   "cell_type": "code",
   "execution_count": null,
   "metadata": {},
   "outputs": [],
   "source": []
  },
  {
   "cell_type": "code",
   "execution_count": null,
   "metadata": {},
   "outputs": [],
   "source": []
  }
 ],
 "metadata": {
  "kernelspec": {
   "display_name": "Python 3 (ipykernel)",
   "language": "python",
   "name": "python3"
  },
  "language_info": {
   "codemirror_mode": {
    "name": "ipython",
    "version": 3
   },
   "file_extension": ".py",
   "mimetype": "text/x-python",
   "name": "python",
   "nbconvert_exporter": "python",
   "pygments_lexer": "ipython3",
   "version": "3.7.6"
  }
 },
 "nbformat": 4,
 "nbformat_minor": 2
}
