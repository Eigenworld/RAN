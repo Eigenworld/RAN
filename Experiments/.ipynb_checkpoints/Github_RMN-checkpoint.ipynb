{
 "cells": [
  {
   "cell_type": "markdown",
   "metadata": {},
   "source": [
    "import torch_geometric\n",
    "\n",
    "torch_geometric.__version__ >>  '1.5.0'\n",
    "\n",
    "torch.__version__ >> '1.5.0'\n",
    "\n",
    "torch.version.cuda >> '10.2'\n",
    "\n",
    "torch.cuda.get_device_name(0) >> 'TITAN RTX'"
   ]
  },
  {
   "cell_type": "code",
   "execution_count": 1,
   "metadata": {},
   "outputs": [],
   "source": [
    "import torch\n",
    "import time\n",
    "import torch.nn as nn\n",
    "from torch.nn import Parameter\n",
    "import torch.nn.functional as F\n",
    "from torch_geometric.utils import remove_self_loops, add_self_loops, softmax\n",
    "from torch_geometric.nn.inits import glorot, zeros\n",
    "from utils import EarlyStopping\n",
    "from torch_geometric.datasets import Planetoid\n",
    "#from torch_geometric.utils import scatter_\n",
    "from sklearn.metrics import f1_score\n",
    "from torch_scatter import scatter\n",
    "\n",
    "import networkx as nx\n",
    "import numpy as np\n",
    "import random"
   ]
  },
  {
   "cell_type": "code",
   "execution_count": 2,
   "metadata": {},
   "outputs": [],
   "source": [
    "path = %pwd"
   ]
  },
  {
   "cell_type": "code",
   "execution_count": null,
   "metadata": {},
   "outputs": [],
   "source": []
  },
  {
   "cell_type": "markdown",
   "metadata": {},
   "source": [
    "## Cora"
   ]
  },
  {
   "cell_type": "code",
   "execution_count": null,
   "metadata": {},
   "outputs": [],
   "source": [
    "Cora = Planetoid(root= path, name='Cora')\n",
    "data = Cora[0]"
   ]
  },
  {
   "cell_type": "markdown",
   "metadata": {},
   "source": [
    "## dgl - Cora"
   ]
  },
  {
   "cell_type": "code",
   "execution_count": null,
   "metadata": {},
   "outputs": [],
   "source": [
    "data = torch.load('dgl_cora.pt')"
   ]
  },
  {
   "cell_type": "markdown",
   "metadata": {},
   "source": [
    "## CiteSeer"
   ]
  },
  {
   "cell_type": "code",
   "execution_count": null,
   "metadata": {},
   "outputs": [],
   "source": [
    "CS = Planetoid(root= path, name='CiteSeer')\n",
    "data = CS[0]"
   ]
  },
  {
   "cell_type": "markdown",
   "metadata": {},
   "source": [
    "## PubMed"
   ]
  },
  {
   "cell_type": "code",
   "execution_count": 3,
   "metadata": {},
   "outputs": [],
   "source": [
    "PM = Planetoid(root= path, name='PubMed')\n",
    "data = PM[0]\n",
    "#max norm\n",
    "data.x = data.x/torch.max(data.x, dim=0).values"
   ]
  },
  {
   "cell_type": "code",
   "execution_count": null,
   "metadata": {},
   "outputs": [],
   "source": []
  },
  {
   "cell_type": "markdown",
   "metadata": {},
   "source": [
    "## Air-USA"
   ]
  },
  {
   "cell_type": "code",
   "execution_count": null,
   "metadata": {},
   "outputs": [],
   "source": [
    "data = torch.load('Air_USA.pt')"
   ]
  },
  {
   "cell_type": "code",
   "execution_count": null,
   "metadata": {},
   "outputs": [],
   "source": [
    "data"
   ]
  },
  {
   "cell_type": "markdown",
   "metadata": {},
   "source": [
    "## Dblp"
   ]
  },
  {
   "cell_type": "code",
   "execution_count": null,
   "metadata": {},
   "outputs": [],
   "source": [
    "data = torch.load('dblp.pt')"
   ]
  },
  {
   "cell_type": "code",
   "execution_count": null,
   "metadata": {},
   "outputs": [],
   "source": [
    "data.train_mask.sum()"
   ]
  },
  {
   "cell_type": "code",
   "execution_count": null,
   "metadata": {},
   "outputs": [],
   "source": []
  },
  {
   "cell_type": "markdown",
   "metadata": {},
   "source": [
    "## Random Test"
   ]
  },
  {
   "cell_type": "code",
   "execution_count": null,
   "metadata": {},
   "outputs": [],
   "source": [
    "def Gen_data(dataset, num_features,seed):\n",
    "    np.random.seed(seed)\n",
    "    data = dataset.clone()\n",
    "    rx = np.random.normal(0, 1, size=(data.num_nodes, num_features) )\n",
    "    #rx = np.random.random((data.num_nodes, num_features))\n",
    "    rx = torch.FloatTensor(rx)\n",
    "    data.x = rx\n",
    "    return data\n",
    "\n",
    "Cora = Planetoid(root= path, name='Cora')\n",
    "cora = Cora[0]\n",
    "\n",
    "# Cora\n",
    "cora_seed = 1024\n",
    "N_F = 300\n",
    "data = Gen_data(cora, N_F, cora_seed)\n",
    "\n",
    "data"
   ]
  },
  {
   "cell_type": "code",
   "execution_count": null,
   "metadata": {},
   "outputs": [],
   "source": []
  },
  {
   "cell_type": "code",
   "execution_count": 4,
   "metadata": {},
   "outputs": [],
   "source": [
    "device = torch.device('cuda' if torch.cuda.is_available() else 'cpu')"
   ]
  },
  {
   "cell_type": "markdown",
   "metadata": {},
   "source": [
    "## RMN"
   ]
  },
  {
   "cell_type": "code",
   "execution_count": 5,
   "metadata": {},
   "outputs": [],
   "source": [
    "def RMN(x, num_nodes, num_F, heads, edge_index, concat=False):\n",
    "    alphas = torch.randn(1, heads, num_F*2).to(device)\n",
    "    cat_x = torch.cat([x]*heads, dim=1)\n",
    "    \n",
    "    edge_index, _ = remove_self_loops(edge_index)\n",
    "    edge_index, _ = add_self_loops(edge_index, num_nodes=num_nodes)\n",
    "    \n",
    "    alphas = alphas.reshape(heads, num_F*2).T\n",
    "    alphas /= torch.sqrt(torch.sum(alphas**2, dim=0))\n",
    "    #torch.cuda.empty_cache()\n",
    "    att = alphas.T.reshape(1, heads, num_F*2)\n",
    "    x_j = cat_x[edge_index[0]]\n",
    "    x_j = x_j.view(-1, heads, num_F)\n",
    "    x_i = cat_x[edge_index[1]]\n",
    "    x_i = x_i.view(-1, heads, num_F)\n",
    "    t = torch.cat([x_j.T, x_i.T], dim=0)\n",
    "    \n",
    "    t = t.permute(2,1,0)\n",
    "    #print(att.device)\n",
    "    #print(t.shape)\n",
    "    alpha = (t*att).sum(dim=-1)\n",
    "    alpha = softmax(alpha, edge_index[1], num_nodes)\n",
    "    #print(alpha)\n",
    "    out = x_j * alpha.view(-1, heads, 1)\n",
    "    out = scatter(out, edge_index[1], dim=0, dim_size=num_nodes,reduce='add')\n",
    "    if concat is True:\n",
    "        aggr_out = out.view(-1, heads * num_F)\n",
    "    else:\n",
    "        aggr_out = out.mean(dim=1)\n",
    "    return aggr_out"
   ]
  },
  {
   "cell_type": "code",
   "execution_count": 6,
   "metadata": {},
   "outputs": [],
   "source": [
    "data = data.to(device)"
   ]
  },
  {
   "cell_type": "code",
   "execution_count": 7,
   "metadata": {},
   "outputs": [],
   "source": [
    "a = RMN(x=data.x,num_nodes=data.num_nodes, num_F=data.num_features,\\\n",
    "           heads=4, edge_index=data.edge_index, concat=True)"
   ]
  },
  {
   "cell_type": "code",
   "execution_count": 8,
   "metadata": {},
   "outputs": [],
   "source": [
    "b = RMN(x=a, num_nodes=data.num_nodes, num_F=a.size()[1],\\\n",
    "           heads=4, edge_index=data.edge_index, concat=False)"
   ]
  },
  {
   "cell_type": "code",
   "execution_count": null,
   "metadata": {},
   "outputs": [],
   "source": []
  },
  {
   "cell_type": "code",
   "execution_count": 9,
   "metadata": {},
   "outputs": [],
   "source": [
    "class mlp(torch.nn.Module):\n",
    "     def __init__(self, num_F, num_C, bias=True, **kwargs):\n",
    "            super(mlp, self).__init__(**kwargs)\n",
    "            self.num_F = num_F\n",
    "            self.num_C = num_C\n",
    "            self.weight = Parameter(\n",
    "            torch.Tensor(num_F, num_C))\n",
    "            if bias:\n",
    "                self.bias = Parameter(torch.Tensor(num_C))\n",
    "            else:\n",
    "                self.register_parameter('bias', None)\n",
    "            self.reset_parameters()\n",
    "        \n",
    "     def reset_parameters(self):\n",
    "        glorot(self.weight)\n",
    "        zeros(self.bias)\n",
    "        \n",
    "     def forward(self, x):\n",
    "        outs = torch.matmul(x, self.weight)\n",
    "        if self.bias is not None:\n",
    "            outs = outs + self.bias\n",
    "        return outs"
   ]
  },
  {
   "cell_type": "code",
   "execution_count": null,
   "metadata": {},
   "outputs": [],
   "source": []
  },
  {
   "cell_type": "code",
   "execution_count": 10,
   "metadata": {},
   "outputs": [
    {
     "data": {
      "text/plain": [
       "3"
      ]
     },
     "execution_count": 10,
     "metadata": {},
     "output_type": "execute_result"
    }
   ],
   "source": [
    "# for cora, citeseer\n",
    "num_c = len(set(data.y.tolist()))\n",
    "num_c"
   ]
  },
  {
   "cell_type": "code",
   "execution_count": 11,
   "metadata": {},
   "outputs": [],
   "source": [
    "class Net(torch.nn.Module):\n",
    "    def __init__(self):\n",
    "        super(Net, self).__init__()\n",
    "        self.conv = mlp(num_F=b.size()[1], num_C=num_c)\n",
    "\n",
    "    def forward(self):\n",
    "        x = b\n",
    "        x = self.conv(x)\n",
    "        return F.log_softmax(x, dim=1)"
   ]
  },
  {
   "cell_type": "code",
   "execution_count": null,
   "metadata": {},
   "outputs": [],
   "source": []
  },
  {
   "cell_type": "code",
   "execution_count": 12,
   "metadata": {},
   "outputs": [
    {
     "name": "stdout",
     "output_type": "stream",
     "text": [
      "Net(\n",
      "  (conv): mlp()\n",
      ")\n",
      "\n",
      "Test Accuracy 0.8020\n",
      "Net(\n",
      "  (conv): mlp()\n",
      ")\n",
      "\n",
      "Test Accuracy 0.8140\n",
      "Net(\n",
      "  (conv): mlp()\n",
      ")\n",
      "\n",
      "Test Accuracy 0.7990\n",
      "Net(\n",
      "  (conv): mlp()\n",
      ")\n",
      "\n",
      "Test Accuracy 0.8010\n",
      "Net(\n",
      "  (conv): mlp()\n",
      ")\n",
      "\n",
      "Test Accuracy 0.8110\n",
      "Net(\n",
      "  (conv): mlp()\n",
      ")\n",
      "\n",
      "Test Accuracy 0.8100\n",
      "Net(\n",
      "  (conv): mlp()\n",
      ")\n",
      "\n",
      "Test Accuracy 0.8150\n",
      "Net(\n",
      "  (conv): mlp()\n",
      ")\n",
      "\n",
      "Test Accuracy 0.8080\n",
      "Net(\n",
      "  (conv): mlp()\n",
      ")\n",
      "\n",
      "Test Accuracy 0.8040\n",
      "Net(\n",
      "  (conv): mlp()\n",
      ")\n",
      "\n",
      "Test Accuracy 0.8030\n"
     ]
    }
   ],
   "source": [
    "\n",
    "gcns = []\n",
    "for _ in range(10):\n",
    "    \n",
    "    device = torch.device('cuda' if torch.cuda.is_available() else 'cpu')\n",
    "    model, data = Net().to(device), data.to(device)\n",
    "    #cora heads mean\n",
    "    #optimizer = torch.optim.Adam(model.parameters(), lr=0.2, weight_decay=5e-3)\n",
    "    \n",
    "    #for dgl cora\n",
    "    #optimizer = torch.optim.Adam(model.parameters(), lr=0.8, weight_decay=5e-5)\n",
    "    \n",
    "    #cite_seer\n",
    "    #optimizer = torch.optim.Adam(model.parameters(), lr=0.02, weight_decay=5e-1)\n",
    "    \n",
    "    #pubmed_max\n",
    "    optimizer = torch.optim.Adam(model.parameters(), lr=0.09, weight_decay=5e-3)\n",
    "    \n",
    "    #air_usa \n",
    "    #optimizer = torch.optim.Adam(model.parameters(), lr=0.8, weight_decay=5e-4)\n",
    "    \n",
    "    #Dblp \n",
    "    #optimizer = torch.optim.Adam(model.parameters(), lr=0.7, weight_decay=5e-4)\n",
    "    \n",
    "    \n",
    "    #random_cora\n",
    "    #optimizer = torch.optim.Adam(model.parameters(), lr=0.05, weight_decay=5e-2)\n",
    "    \n",
    "    def train():\n",
    "        model.train()\n",
    "        optimizer.zero_grad()\n",
    "        loss = F.nll_loss(model()[data.train_mask], data.y[data.train_mask])\n",
    "        loss.backward()\n",
    "        optimizer.step()\n",
    "        return loss\n",
    "\n",
    "    def test(mask):\n",
    "        model.eval()\n",
    "        with torch.no_grad():\n",
    "            logits = model()\n",
    "            pred = logits[mask].max(1)[1]\n",
    "            acc = pred.eq(data.y[mask]).sum().item() / mask.sum().item()\n",
    "          \n",
    "        return acc\n",
    "    # 50 early stop\n",
    "    early_stop = True\n",
    "    if early_stop:\n",
    "        stopper = EarlyStopping(patience=50)\n",
    "    dur = []\n",
    "    print(model)\n",
    "\n",
    "    for epoch in range(1, 101):\n",
    "        model.train()\n",
    "        if epoch >= 3:\n",
    "            t0 = time.time()\n",
    "        loss = train()\n",
    "\n",
    "        if epoch >= 3:\n",
    "            dur.append(time.time() - t0)\n",
    "\n",
    "        val_acc = test(data.val_mask)\n",
    "\n",
    "        if early_stop:\n",
    "            if stopper.step(val_acc, model):   \n",
    "                break\n",
    "\n",
    "        '''print(\"Epoch {:05d} | Time(s) {:.4f} | Loss {:.4f} | \"\n",
    "                    \" ValAcc {:.4f}\".\n",
    "                    format(epoch, np.mean(dur), loss, val_acc))'''\n",
    "\n",
    "    print() \n",
    "\n",
    "    if early_stop:\n",
    "        model.load_state_dict(torch.load('es_checkpoint.pt'))\n",
    "    test_acc = test(data.test_mask)\n",
    "    gcns.append(test_acc)\n",
    "    print(\"Test Accuracy {:.4f}\".format(test_acc))"
   ]
  },
  {
   "cell_type": "code",
   "execution_count": 13,
   "metadata": {},
   "outputs": [
    {
     "data": {
      "text/plain": [
       "0.8067"
      ]
     },
     "execution_count": 13,
     "metadata": {},
     "output_type": "execute_result"
    }
   ],
   "source": [
    "np.mean(gcns)"
   ]
  },
  {
   "cell_type": "code",
   "execution_count": 14,
   "metadata": {},
   "outputs": [
    {
     "data": {
      "text/plain": [
       "0.5367494760127829"
      ]
     },
     "execution_count": 14,
     "metadata": {},
     "output_type": "execute_result"
    }
   ],
   "source": [
    "np.std(gcns)*100"
   ]
  },
  {
   "cell_type": "markdown",
   "metadata": {},
   "source": [
    "## We use the original feature, so RMN sonsumes lots of memory. "
   ]
  },
  {
   "cell_type": "code",
   "execution_count": null,
   "metadata": {},
   "outputs": [],
   "source": []
  },
  {
   "cell_type": "markdown",
   "metadata": {},
   "source": [
    "## PPI"
   ]
  },
  {
   "cell_type": "code",
   "execution_count": 1,
   "metadata": {},
   "outputs": [],
   "source": [
    "import os"
   ]
  },
  {
   "cell_type": "code",
   "execution_count": 2,
   "metadata": {},
   "outputs": [],
   "source": [
    "path = %pwd"
   ]
  },
  {
   "cell_type": "code",
   "execution_count": 4,
   "metadata": {
    "scrolled": false
   },
   "outputs": [],
   "source": [
    "data = torch.load( os.path.join(path,'my_ppi.pt') )"
   ]
  },
  {
   "cell_type": "code",
   "execution_count": 5,
   "metadata": {},
   "outputs": [],
   "source": [
    "#for ppi\n",
    "num_c = data.y[0].size()[0]"
   ]
  },
  {
   "cell_type": "code",
   "execution_count": null,
   "metadata": {},
   "outputs": [],
   "source": []
  },
  {
   "cell_type": "code",
   "execution_count": 7,
   "metadata": {},
   "outputs": [],
   "source": [
    "class BCEWithLogitsWrapper(nn.Module):\n",
    "    def __init__(self):\n",
    "        super(BCEWithLogitsWrapper, self).__init__()\n",
    "        self.loss = nn.BCEWithLogitsLoss()\n",
    "\n",
    "    def forward(self, logits, labels):\n",
    "        return self.loss(logits, labels.float())"
   ]
  },
  {
   "cell_type": "code",
   "execution_count": null,
   "metadata": {},
   "outputs": [],
   "source": []
  },
  {
   "cell_type": "code",
   "execution_count": 10,
   "metadata": {},
   "outputs": [],
   "source": [
    "data = data.to(device)"
   ]
  },
  {
   "cell_type": "code",
   "execution_count": 11,
   "metadata": {},
   "outputs": [],
   "source": [
    "a = RMN(x=data.x,num_nodes=data.num_nodes, num_F=data.num_features,\\\n",
    "           heads=10, edge_index=data.edge_index, concat=True)"
   ]
  },
  {
   "cell_type": "code",
   "execution_count": 12,
   "metadata": {},
   "outputs": [],
   "source": [
    "b = RMN(x=a, num_nodes=data.num_nodes, num_F=a.size()[1],\\\n",
    "           heads=10, edge_index=data.edge_index, concat=True)"
   ]
  },
  {
   "cell_type": "code",
   "execution_count": 13,
   "metadata": {},
   "outputs": [
    {
     "data": {
      "text/plain": [
       "121"
      ]
     },
     "execution_count": 13,
     "metadata": {},
     "output_type": "execute_result"
    }
   ],
   "source": [
    "num_c"
   ]
  },
  {
   "cell_type": "code",
   "execution_count": null,
   "metadata": {},
   "outputs": [],
   "source": [
    "#Linear Test\n",
    "class Net1(torch.nn.Module):\n",
    "    def __init__(self):\n",
    "        super(Net1, self).__init__()\n",
    "        h_didden =1024\n",
    "        num_f = b.size()[1]\n",
    "        self.conv = mlp(num_F=num_f, num_C=num_c) #for a\n",
    "        \n",
    "\n",
    "    def forward(self):\n",
    "        x=self.conv(b)\n",
    "        return x\n"
   ]
  },
  {
   "cell_type": "code",
   "execution_count": null,
   "metadata": {},
   "outputs": [],
   "source": []
  },
  {
   "cell_type": "code",
   "execution_count": 14,
   "metadata": {},
   "outputs": [],
   "source": [
    "#add skip connections\n",
    "class Net1(torch.nn.Module):\n",
    "    def __init__(self):\n",
    "        super(Net1, self).__init__()\n",
    "        h_didden =1024\n",
    "        num_f = b.size()[1]\n",
    "        self.conv = mlp(num_F=num_f, num_C=h_didden) #for a\n",
    "        self.linear0 = nn.Linear(a.size()[1], h_didden) # for b\n",
    "        self.linear = nn.Linear(h_didden, num_c)\n",
    "\n",
    "    def forward(self):\n",
    "        x = b\n",
    "        x = self.conv(x)\n",
    "        \n",
    "        y = self.linear0(a)\n",
    "        y = F.relu(y)\n",
    "        x = F.relu(x)\n",
    "        x = (x+y)/2.0#注意同维！\n",
    "        #x = torch.cat([x,y], dim=1)\n",
    "        x = self.linear(x)\n",
    "        return x\n"
   ]
  },
  {
   "cell_type": "code",
   "execution_count": null,
   "metadata": {},
   "outputs": [],
   "source": []
  },
  {
   "cell_type": "code",
   "execution_count": 17,
   "metadata": {
    "scrolled": false
   },
   "outputs": [
    {
     "name": "stdout",
     "output_type": "stream",
     "text": [
      "Net1(\n",
      "  (conv): mlp()\n",
      "  (linear0): Linear(in_features=500, out_features=1024, bias=True)\n",
      "  (linear): Linear(in_features=1024, out_features=121, bias=True)\n",
      ")\n",
      "\n",
      "Test Accuracy 0.6498\n",
      "Net1(\n",
      "  (conv): mlp()\n",
      "  (linear0): Linear(in_features=500, out_features=1024, bias=True)\n",
      "  (linear): Linear(in_features=1024, out_features=121, bias=True)\n",
      ")\n",
      "\n",
      "Test Accuracy 0.6500\n",
      "Net1(\n",
      "  (conv): mlp()\n",
      "  (linear0): Linear(in_features=500, out_features=1024, bias=True)\n",
      "  (linear): Linear(in_features=1024, out_features=121, bias=True)\n",
      ")\n",
      "\n",
      "Test Accuracy 0.6489\n",
      "Net1(\n",
      "  (conv): mlp()\n",
      "  (linear0): Linear(in_features=500, out_features=1024, bias=True)\n",
      "  (linear): Linear(in_features=1024, out_features=121, bias=True)\n",
      ")\n",
      "\n",
      "Test Accuracy 0.6448\n",
      "Net1(\n",
      "  (conv): mlp()\n",
      "  (linear0): Linear(in_features=500, out_features=1024, bias=True)\n",
      "  (linear): Linear(in_features=1024, out_features=121, bias=True)\n",
      ")\n",
      "\n",
      "Test Accuracy 0.6499\n",
      "Net1(\n",
      "  (conv): mlp()\n",
      "  (linear0): Linear(in_features=500, out_features=1024, bias=True)\n",
      "  (linear): Linear(in_features=1024, out_features=121, bias=True)\n",
      ")\n",
      "\n",
      "Test Accuracy 0.6509\n",
      "Net1(\n",
      "  (conv): mlp()\n",
      "  (linear0): Linear(in_features=500, out_features=1024, bias=True)\n",
      "  (linear): Linear(in_features=1024, out_features=121, bias=True)\n",
      ")\n",
      "\n",
      "Test Accuracy 0.6480\n",
      "Net1(\n",
      "  (conv): mlp()\n",
      "  (linear0): Linear(in_features=500, out_features=1024, bias=True)\n",
      "  (linear): Linear(in_features=1024, out_features=121, bias=True)\n",
      ")\n",
      "\n",
      "Test Accuracy 0.6513\n",
      "Net1(\n",
      "  (conv): mlp()\n",
      "  (linear0): Linear(in_features=500, out_features=1024, bias=True)\n",
      "  (linear): Linear(in_features=1024, out_features=121, bias=True)\n",
      ")\n",
      "\n",
      "Test Accuracy 0.6518\n",
      "Net1(\n",
      "  (conv): mlp()\n",
      "  (linear0): Linear(in_features=500, out_features=1024, bias=True)\n",
      "  (linear): Linear(in_features=1024, out_features=121, bias=True)\n",
      ")\n",
      "\n",
      "Test Accuracy 0.6448\n"
     ]
    }
   ],
   "source": [
    "\n",
    "gats = []\n",
    "device = torch.device('cuda' if torch.cuda.is_available() else 'cpu')\n",
    "\n",
    "for _ in range(10):\n",
    "    model = Net1().to(device)\n",
    "    loss_op = BCEWithLogitsWrapper()\n",
    "    optimizer = torch.optim.Adam(model.parameters(), lr=0.01, weight_decay=5e-5)\n",
    "    \n",
    "    def train():\n",
    "        model.train()\n",
    "        optimizer.zero_grad()\n",
    "        loss = loss_op(model()[data.train_mask], data.y[data.train_mask])\n",
    "        loss.backward()\n",
    "        optimizer.step()\n",
    "        return loss\n",
    "\n",
    "    def test(mask):\n",
    "        model.eval()\n",
    "        with torch.no_grad():\n",
    "            out = model()[mask]\n",
    "            out= (out > 0).float().cpu()\n",
    "            y, pred = data.y[mask].cpu().numpy(), out.numpy()\n",
    "            acc = f1_score(y, pred, average='micro') if pred.sum() > 0 else 0\n",
    "        return acc\n",
    "    \n",
    "    \n",
    "    # 50 early stop\n",
    "    early_stop = True\n",
    "    if early_stop:\n",
    "        stopper = EarlyStopping(patience=100)\n",
    "    dur = []\n",
    "    print(model)\n",
    "\n",
    "    for epoch in range(1, 101):\n",
    "        model.train()\n",
    "        if epoch >= 3:\n",
    "            t0 = time.time()\n",
    "        loss = train()\n",
    "\n",
    "        if epoch >= 3:\n",
    "            dur.append(time.time() - t0)\n",
    "\n",
    "        val_acc = test(data.val_mask)\n",
    "\n",
    "        if early_stop:\n",
    "            if stopper.step(val_acc, model):   \n",
    "                break\n",
    "\n",
    "       \n",
    "    print() \n",
    "\n",
    "    if early_stop:\n",
    "        model.load_state_dict(torch.load('es_checkpoint.pt'))\n",
    "    test_acc = test(data.test_mask)\n",
    "    gats.append(test_acc)\n",
    "    print(\"Test Accuracy {:.4f}\".format(test_acc))"
   ]
  },
  {
   "cell_type": "code",
   "execution_count": null,
   "metadata": {},
   "outputs": [],
   "source": []
  },
  {
   "cell_type": "code",
   "execution_count": 18,
   "metadata": {},
   "outputs": [
    {
     "data": {
      "text/plain": [
       "0.6490096988279742"
      ]
     },
     "execution_count": 18,
     "metadata": {},
     "output_type": "execute_result"
    }
   ],
   "source": [
    "np.mean(gats)"
   ]
  },
  {
   "cell_type": "code",
   "execution_count": 19,
   "metadata": {
    "scrolled": true
   },
   "outputs": [
    {
     "data": {
      "text/plain": [
       "0.23566252515522368"
      ]
     },
     "execution_count": 19,
     "metadata": {},
     "output_type": "execute_result"
    }
   ],
   "source": [
    "np.std(gats)*100"
   ]
  },
  {
   "cell_type": "code",
   "execution_count": null,
   "metadata": {},
   "outputs": [],
   "source": []
  },
  {
   "cell_type": "code",
   "execution_count": null,
   "metadata": {},
   "outputs": [],
   "source": []
  },
  {
   "cell_type": "code",
   "execution_count": null,
   "metadata": {},
   "outputs": [],
   "source": []
  },
  {
   "cell_type": "code",
   "execution_count": null,
   "metadata": {},
   "outputs": [],
   "source": []
  }
 ],
 "metadata": {
  "kernelspec": {
   "display_name": "Python 3 (ipykernel)",
   "language": "python",
   "name": "python3"
  },
  "language_info": {
   "codemirror_mode": {
    "name": "ipython",
    "version": 3
   },
   "file_extension": ".py",
   "mimetype": "text/x-python",
   "name": "python",
   "nbconvert_exporter": "python",
   "pygments_lexer": "ipython3",
   "version": "3.7.6"
  }
 },
 "nbformat": 4,
 "nbformat_minor": 2
}
