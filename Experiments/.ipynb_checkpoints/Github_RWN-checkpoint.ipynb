{
 "cells": [
  {
   "cell_type": "markdown",
   "metadata": {
    "colab": {
     "base_uri": "https://localhost:8080/",
     "height": 36
    },
    "executionInfo": {
     "elapsed": 558,
     "status": "ok",
     "timestamp": 1639627469784,
     "user": {
      "displayName": "Xue Robert",
      "photoUrl": "https://lh3.googleusercontent.com/a-/AOh14Ggz_PITpCVZkOGCc-PYV93u9s6v6n1BoAux_QBT=s64",
      "userId": "05809751795814209528"
     },
     "user_tz": -480
    },
    "id": "ATF2JezNTxi0",
    "outputId": "cbfbe044-0e98-44f4-c088-2b0e439367fb"
   },
   "source": [
    "import torch_geometric\n",
    "\n",
    "torch_geometric.__version__ >>  '1.5.0'\n",
    "\n",
    "torch.__version__ >> '1.5.0'\n",
    "\n",
    "torch.version.cuda >> '10.2'\n",
    "\n",
    "torch.cuda.get_device_name(0) >> 'TITAN RTX'"
   ]
  },
  {
   "cell_type": "markdown",
   "metadata": {},
   "source": [
    "## load data"
   ]
  },
  {
   "cell_type": "code",
   "execution_count": 1,
   "metadata": {
    "executionInfo": {
     "elapsed": 434,
     "status": "ok",
     "timestamp": 1639627480845,
     "user": {
      "displayName": "Xue Robert",
      "photoUrl": "https://lh3.googleusercontent.com/a-/AOh14Ggz_PITpCVZkOGCc-PYV93u9s6v6n1BoAux_QBT=s64",
      "userId": "05809751795814209528"
     },
     "user_tz": -480
    },
    "id": "9s5DF__8Ui_p"
   },
   "outputs": [],
   "source": [
    "from torch_geometric.datasets import Planetoid\n",
    "import os"
   ]
  },
  {
   "cell_type": "code",
   "execution_count": 2,
   "metadata": {},
   "outputs": [],
   "source": [
    "path = %pwd"
   ]
  },
  {
   "cell_type": "code",
   "execution_count": 3,
   "metadata": {
    "id": "-8we0vHfUjBp"
   },
   "outputs": [],
   "source": [
    "Cora = Planetoid(root=path, name='Cora')\n",
    "cora = Cora[0]"
   ]
  },
  {
   "cell_type": "code",
   "execution_count": null,
   "metadata": {
    "id": "fnT8zg55UjDw"
   },
   "outputs": [],
   "source": [
    "C_S = Planetoid(root=path, name='CiteSeer')\n",
    "cite_seer = C_S[0]"
   ]
  },
  {
   "cell_type": "code",
   "execution_count": null,
   "metadata": {
    "executionInfo": {
     "elapsed": 5973,
     "status": "ok",
     "timestamp": 1639627489821,
     "user": {
      "displayName": "Xue Robert",
      "photoUrl": "https://lh3.googleusercontent.com/a-/AOh14Ggz_PITpCVZkOGCc-PYV93u9s6v6n1BoAux_QBT=s64",
      "userId": "05809751795814209528"
     },
     "user_tz": -480
    },
    "id": "7ZDH0SwRUjF5"
   },
   "outputs": [],
   "source": [
    "PM = Planetoid(root=path, name='PubMed')\n",
    "pub_med = PM[0]"
   ]
  },
  {
   "cell_type": "code",
   "execution_count": null,
   "metadata": {},
   "outputs": [],
   "source": [
    "air = torch.load( os.path.join(path,'Air_USA.pt') )"
   ]
  },
  {
   "cell_type": "code",
   "execution_count": null,
   "metadata": {},
   "outputs": [],
   "source": [
    "db = torch.load( os.path.join(path,'dblp.pt') )"
   ]
  },
  {
   "cell_type": "code",
   "execution_count": null,
   "metadata": {},
   "outputs": [],
   "source": [
    "d_cora = torch.load( os.path.join(path,'dgl_cora.pt'))"
   ]
  },
  {
   "cell_type": "code",
   "execution_count": 4,
   "metadata": {
    "executionInfo": {
     "elapsed": 6,
     "status": "ok",
     "timestamp": 1639627489822,
     "user": {
      "displayName": "Xue Robert",
      "photoUrl": "https://lh3.googleusercontent.com/a-/AOh14Ggz_PITpCVZkOGCc-PYV93u9s6v6n1BoAux_QBT=s64",
      "userId": "05809751795814209528"
     },
     "user_tz": -480
    },
    "id": "_ySOprnXUjH5"
   },
   "outputs": [],
   "source": [
    "import torch\n",
    "import torch.nn as nn\n",
    "from torch.nn import Linear\n",
    "import torch.nn.functional as F\n",
    "from torch_geometric.utils import remove_self_loops, add_self_loops,softmax\n",
    "from torch_geometric.nn.conv import MessagePassing\n",
    "import numpy as np\n",
    "import networkx as nx\n",
    "import time\n",
    "\n",
    "from utils import EarlyStopping"
   ]
  },
  {
   "cell_type": "markdown",
   "metadata": {},
   "source": [
    "## RWN"
   ]
  },
  {
   "cell_type": "markdown",
   "metadata": {},
   "source": [
    "### Aggregator "
   ]
  },
  {
   "cell_type": "code",
   "execution_count": 5,
   "metadata": {
    "id": "2jaTQejkJ5I2"
   },
   "outputs": [],
   "source": [
    "# L2 normalized weights\n",
    "def Rand_aw(G, n=1):\n",
    "    #np.random.seed(1024)\n",
    "    A = nx.to_numpy_array(G, nodelist=range(len(G))) \n",
    "    w = np.random.random(A.shape)  #uniform\n",
    "    #w = np.random.randn(*A.shape) #normal  \n",
    "    A = A*w + n*np.eye(A.shape[0])\n",
    "    row_sum = np.sum(A**2, axis=1,keepdims=True)\n",
    "    A = A/(np.sqrt(row_sum)+1e-12)\n",
    "    return A"
   ]
  },
  {
   "cell_type": "markdown",
   "metadata": {},
   "source": [
    "## Build a graph "
   ]
  },
  {
   "cell_type": "code",
   "execution_count": 6,
   "metadata": {
    "id": "XE2Lb4lNR798"
   },
   "outputs": [],
   "source": [
    "data = cora\n",
    "data.to('cpu')\n",
    "edge_index, _ = remove_self_loops(data.edge_index)\n",
    "edge_index, _ = add_self_loops(edge_index, num_nodes=data.num_nodes)\n",
    "\n",
    "edges = edge_index.numpy().T\n",
    "# create a graph and feed it to Rand_aw later\n",
    "rg = nx.Graph()\n",
    "\n",
    "rg.add_edges_from(edges)"
   ]
  },
  {
   "cell_type": "markdown",
   "metadata": {},
   "source": [
    "## Algorithm"
   ]
  },
  {
   "cell_type": "code",
   "execution_count": 7,
   "metadata": {
    "id": "E-S7UVDOR8Ci"
   },
   "outputs": [],
   "source": [
    "num_features = data.num_features\n",
    "num_classes = len(set(data.y.numpy()))"
   ]
  },
  {
   "cell_type": "code",
   "execution_count": 8,
   "metadata": {
    "id": "3n6tupb5R8FS"
   },
   "outputs": [],
   "source": [
    "class rw_GNN(MessagePassing):\n",
    "    def __init__(self, in_channels, out_channels, rw, k=3, cached=True, bias=True,\n",
    "                 **kwargs):\n",
    "                 \n",
    "        super(rw_GNN, self).__init__(aggr='add', **kwargs)\n",
    "\n",
    "        self.in_channels = in_channels\n",
    "        self.out_channels = out_channels\n",
    "        self.k = k\n",
    "        self.cached = cached\n",
    "        self.lin = Linear(in_channels, out_channels, bias=bias)\n",
    "\n",
    "        if not torch.is_tensor(rw):\n",
    "                rw = torch.tensor(rw, dtype=data.x.dtype)\n",
    "        self.rw = rw.cuda()\n",
    "\n",
    "        self.reset_parameters()\n",
    "\n",
    "        \n",
    "    def reset_parameters(self):\n",
    "        self.lin.reset_parameters()\n",
    "        self.cached_result = None\n",
    "        self.cached_num_edges = None\n",
    "\n",
    "    def forward(self, x, edge_index):\n",
    "        \"\"\"\"\"\"\n",
    "\n",
    "        if not self.cached or self.cached_result is None:\n",
    "            self.cached_num_edges = edge_index.size(1)\n",
    "\n",
    "            edge_index, _ = remove_self_loops(edge_index)\n",
    "            edge_index, _ = add_self_loops(edge_index, num_nodes=x.size(0))\n",
    "\n",
    "            norm = self.rw[edge_index[1], edge_index[0]]\n",
    "            \n",
    "            for k in range(self.k):\n",
    "                x = self.propagate(edge_index, x=x, norm=norm) \n",
    "            self.cached_result = x\n",
    "\n",
    "        if self.cached:\n",
    "            x = self.lin(self.cached_result)\n",
    "        return x\n",
    "    \n",
    "    def message(self, x_j, norm):\n",
    "        return norm.view(-1, 1) * x_j\n",
    "\n",
    "    def __repr__(self):\n",
    "        return '{}({}, {}, K={})'.format(self.__class__.__name__,\n",
    "                                         self.in_channels, self.out_channels,\n",
    "                                         self.k)"
   ]
  },
  {
   "cell_type": "code",
   "execution_count": 9,
   "metadata": {
    "id": "-SQfH23APXid",
    "scrolled": true
   },
   "outputs": [],
   "source": [
    "aw = Rand_aw(rg, n=1)"
   ]
  },
  {
   "cell_type": "code",
   "execution_count": 10,
   "metadata": {
    "id": "q22l_n1RR8JL"
   },
   "outputs": [],
   "source": [
    "class Net(nn.Module):\n",
    "    def __init__(self):\n",
    "        super(Net, self).__init__()\n",
    "        self.conv = rw_GNN(\n",
    "            num_features, num_classes, rw=aw , k=2, cached=True)\n",
    "\n",
    "    def forward(self):\n",
    "        x = self.conv(data.x, data.edge_index)\n",
    "        return F.log_softmax(x, dim=1)"
   ]
  },
  {
   "cell_type": "code",
   "execution_count": null,
   "metadata": {},
   "outputs": [],
   "source": []
  },
  {
   "cell_type": "code",
   "execution_count": 11,
   "metadata": {
    "colab": {
     "base_uri": "https://localhost:8080/"
    },
    "executionInfo": {
     "elapsed": 4057,
     "status": "ok",
     "timestamp": 1639276134002,
     "user": {
      "displayName": "Xue Robert",
      "photoUrl": "https://lh3.googleusercontent.com/a-/AOh14Ggz_PITpCVZkOGCc-PYV93u9s6v6n1BoAux_QBT=s64",
      "userId": "05809751795814209528"
     },
     "user_tz": -480
    },
    "id": "1lIpNamtUjLw",
    "outputId": "d5afb5c4-ee76-47f0-aec7-95c242494276"
   },
   "outputs": [
    {
     "name": "stdout",
     "output_type": "stream",
     "text": [
      "Test Accuracy 0.7970\n",
      "Test Accuracy 0.7980\n",
      "Test Accuracy 0.8050\n",
      "Test Accuracy 0.8030\n",
      "Test Accuracy 0.8150\n",
      "Test Accuracy 0.8070\n",
      "Test Accuracy 0.8000\n",
      "Test Accuracy 0.7990\n",
      "Test Accuracy 0.7980\n",
      "Test Accuracy 0.7970\n"
     ]
    }
   ],
   "source": [
    "das = []\n",
    "for _ in range(10):\n",
    "  device = torch.device('cuda' if torch.cuda.is_available() else 'cpu')\n",
    "  model, data = Net().to(device), data.to(device)\n",
    "\n",
    "  #cora_pytorch\n",
    "  optimizer = torch.optim.Adam(model.parameters(), lr=0.1, weight_decay=5e-1)\n",
    "    \n",
    "  #pubmed\n",
    "  #optimizer = torch.optim.Adam(model.parameters(), lr=0.1, weight_decay=5e-3)\n",
    "    \n",
    "  #cite_seer,\n",
    "  #optimizer = torch.optim.Adam(model.parameters(), lr=0.5, weight_decay=5e-1)\n",
    "    \n",
    "  #air\n",
    "  #optimizer = torch.optim.Adam(model.parameters(), lr=0.1, weight_decay=5e-6)\n",
    "    \n",
    "  #dblp\n",
    "  #optimizer = torch.optim.Adam(model.parameters(), lr=0.1, weight_decay=5e-4)\n",
    "    \n",
    "  #dgl cora \n",
    "  #optimizer = torch.optim.Adam(model.parameters(), lr=0.7, weight_decay=5e-4)\n",
    "\n",
    "  def train():\n",
    "      model.train()\n",
    "      optimizer.zero_grad()\n",
    "      loss = F.nll_loss(model()[data.train_mask], data.y[data.train_mask])\n",
    "      loss.backward()\n",
    "      optimizer.step()\n",
    "      return loss\n",
    "\n",
    "  def test(mask):\n",
    "      model.eval()\n",
    "      with torch.no_grad():\n",
    "          logits = model()\n",
    "          pred = logits[mask].max(1)[1]\n",
    "          acc = pred.eq(data.y[mask]).sum().item() / mask.sum().item()\n",
    "          \n",
    "      return acc\n",
    "\n",
    "\n",
    "  early_stop = True\n",
    "  if early_stop:\n",
    "      stopper = EarlyStopping(patience=100)\n",
    "  dur = []\n",
    "  #print(model)\n",
    "\n",
    "  for epoch in range(1, 101):\n",
    "      model.train()\n",
    "      if epoch >= 3:\n",
    "          t0 = time.time()\n",
    "      loss = train()\n",
    "      \n",
    "      if epoch >= 3:\n",
    "          dur.append(time.time() - t0)\n",
    "      \n",
    "      val_acc = test(data.val_mask)\n",
    "      \n",
    "      if early_stop:\n",
    "          if stopper.step(val_acc, model):   \n",
    "              break\n",
    "      \n",
    "      \n",
    "      \n",
    "  if early_stop:\n",
    "      model.load_state_dict(torch.load('es_checkpoint.pt'))\n",
    "  test_acc = test(data.test_mask)\n",
    "  das.append(test_acc)\n",
    "  print(\"Test Accuracy {:.4f}\".format(test_acc))"
   ]
  },
  {
   "cell_type": "code",
   "execution_count": 12,
   "metadata": {},
   "outputs": [
    {
     "data": {
      "text/plain": [
       "0.8019000000000001"
      ]
     },
     "execution_count": 12,
     "metadata": {},
     "output_type": "execute_result"
    }
   ],
   "source": [
    "np.mean(das)"
   ]
  },
  {
   "cell_type": "code",
   "execution_count": 13,
   "metadata": {},
   "outputs": [
    {
     "data": {
      "text/plain": [
       "0.5467174773134637"
      ]
     },
     "execution_count": 13,
     "metadata": {},
     "output_type": "execute_result"
    }
   ],
   "source": [
    "np.std(das)*100"
   ]
  },
  {
   "cell_type": "code",
   "execution_count": null,
   "metadata": {},
   "outputs": [],
   "source": []
  },
  {
   "cell_type": "code",
   "execution_count": null,
   "metadata": {
    "id": "wL8bfGzUcopu"
   },
   "outputs": [],
   "source": []
  },
  {
   "cell_type": "code",
   "execution_count": null,
   "metadata": {
    "id": "th31ZJOkY8pb"
   },
   "outputs": [],
   "source": []
  },
  {
   "cell_type": "code",
   "execution_count": null,
   "metadata": {
    "id": "zMf9geBSY80i"
   },
   "outputs": [],
   "source": []
  }
 ],
 "metadata": {
  "colab": {
   "authorship_tag": "ABX9TyP/Ks15XJlUyV7N0fFWJyhS",
   "collapsed_sections": [],
   "mount_file_id": "12DjSVIzMAj4jfMvHxFPurQOFJLCXFYkp",
   "name": "RAN Test.ipynb",
   "provenance": []
  },
  "kernelspec": {
   "display_name": "Python 3 (ipykernel)",
   "language": "python",
   "name": "python3"
  },
  "language_info": {
   "codemirror_mode": {
    "name": "ipython",
    "version": 3
   },
   "file_extension": ".py",
   "mimetype": "text/x-python",
   "name": "python",
   "nbconvert_exporter": "python",
   "pygments_lexer": "ipython3",
   "version": "3.7.6"
  }
 },
 "nbformat": 4,
 "nbformat_minor": 1
}
